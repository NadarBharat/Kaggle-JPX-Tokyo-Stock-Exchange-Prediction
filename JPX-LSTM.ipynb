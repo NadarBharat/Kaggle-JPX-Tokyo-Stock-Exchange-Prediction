{
 "cells": [
  {
   "cell_type": "code",
   "execution_count": 1,
   "id": "4aefddf7",
   "metadata": {
    "_cell_guid": "b1076dfc-b9ad-4769-8c92-a6c4dae69d19",
    "_uuid": "8f2839f25d086af736a60e9eeb907d3b93b6e0e5",
    "execution": {
     "iopub.execute_input": "2022-07-04T15:25:51.130097Z",
     "iopub.status.busy": "2022-07-04T15:25:51.129267Z",
     "iopub.status.idle": "2022-07-04T15:25:51.163788Z",
     "shell.execute_reply": "2022-07-04T15:25:51.162734Z"
    },
    "papermill": {
     "duration": 0.047811,
     "end_time": "2022-07-04T15:25:51.167897",
     "exception": false,
     "start_time": "2022-07-04T15:25:51.120086",
     "status": "completed"
    },
    "tags": []
   },
   "outputs": [
    {
     "name": "stdout",
     "output_type": "stream",
     "text": [
      "/kaggle/input/jpx-tokyo-stock-exchange-prediction/stock_list.csv\n",
      "/kaggle/input/jpx-tokyo-stock-exchange-prediction/example_test_files/sample_submission.csv\n",
      "/kaggle/input/jpx-tokyo-stock-exchange-prediction/example_test_files/options.csv\n",
      "/kaggle/input/jpx-tokyo-stock-exchange-prediction/example_test_files/financials.csv\n",
      "/kaggle/input/jpx-tokyo-stock-exchange-prediction/example_test_files/secondary_stock_prices.csv\n",
      "/kaggle/input/jpx-tokyo-stock-exchange-prediction/example_test_files/trades.csv\n",
      "/kaggle/input/jpx-tokyo-stock-exchange-prediction/example_test_files/stock_prices.csv\n",
      "/kaggle/input/jpx-tokyo-stock-exchange-prediction/jpx_tokyo_market_prediction/competition.cpython-37m-x86_64-linux-gnu.so\n",
      "/kaggle/input/jpx-tokyo-stock-exchange-prediction/jpx_tokyo_market_prediction/__init__.py\n",
      "/kaggle/input/jpx-tokyo-stock-exchange-prediction/data_specifications/stock_fin_spec.csv\n",
      "/kaggle/input/jpx-tokyo-stock-exchange-prediction/data_specifications/trades_spec.csv\n",
      "/kaggle/input/jpx-tokyo-stock-exchange-prediction/data_specifications/stock_price_spec.csv\n",
      "/kaggle/input/jpx-tokyo-stock-exchange-prediction/data_specifications/options_spec.csv\n",
      "/kaggle/input/jpx-tokyo-stock-exchange-prediction/data_specifications/stock_list_spec.csv\n",
      "/kaggle/input/jpx-tokyo-stock-exchange-prediction/train_files/options.csv\n",
      "/kaggle/input/jpx-tokyo-stock-exchange-prediction/train_files/financials.csv\n",
      "/kaggle/input/jpx-tokyo-stock-exchange-prediction/train_files/secondary_stock_prices.csv\n",
      "/kaggle/input/jpx-tokyo-stock-exchange-prediction/train_files/trades.csv\n",
      "/kaggle/input/jpx-tokyo-stock-exchange-prediction/train_files/stock_prices.csv\n",
      "/kaggle/input/jpx-tokyo-stock-exchange-prediction/supplemental_files/options.csv\n",
      "/kaggle/input/jpx-tokyo-stock-exchange-prediction/supplemental_files/financials.csv\n",
      "/kaggle/input/jpx-tokyo-stock-exchange-prediction/supplemental_files/secondary_stock_prices.csv\n",
      "/kaggle/input/jpx-tokyo-stock-exchange-prediction/supplemental_files/trades.csv\n",
      "/kaggle/input/jpx-tokyo-stock-exchange-prediction/supplemental_files/stock_prices.csv\n"
     ]
    }
   ],
   "source": [
    "# This Python 3 environment comes with many helpful analytics libraries installed\n",
    "# It is defined by the kaggle/python Docker image: https://github.com/kaggle/docker-python\n",
    "# For example, here's several helpful packages to load\n",
    "\n",
    "import numpy as np # linear algebra\n",
    "import pandas as pd # data processing, CSV file I/O (e.g. pd.read_csv)\n",
    "\n",
    "# Input data files are available in the read-only \"../input/\" directory\n",
    "# For example, running this (by clicking run or pressing Shift+Enter) will list all files under the input directory\n",
    "\n",
    "import os\n",
    "for dirname, _, filenames in os.walk('/kaggle/input'):\n",
    "    for filename in filenames:\n",
    "        print(os.path.join(dirname, filename))\n",
    "\n",
    "# You can write up to 20GB to the current directory (/kaggle/working/) that gets preserved as output when you create a version using \"Save & Run All\" \n",
    "# You can also write temporary files to /kaggle/temp/, but they won't be saved outside of the current session"
   ]
  },
  {
   "cell_type": "code",
   "execution_count": 2,
   "id": "eaa6c79b",
   "metadata": {
    "execution": {
     "iopub.execute_input": "2022-07-04T15:25:51.181259Z",
     "iopub.status.busy": "2022-07-04T15:25:51.180667Z",
     "iopub.status.idle": "2022-07-04T15:25:56.493364Z",
     "shell.execute_reply": "2022-07-04T15:25:56.492322Z"
    },
    "papermill": {
     "duration": 5.322321,
     "end_time": "2022-07-04T15:25:56.496176",
     "exception": false,
     "start_time": "2022-07-04T15:25:51.173855",
     "status": "completed"
    },
    "tags": []
   },
   "outputs": [],
   "source": [
    "stock_price_df = pd.read_csv(\"../input/jpx-tokyo-stock-exchange-prediction/train_files/stock_prices.csv\")"
   ]
  },
  {
   "cell_type": "code",
   "execution_count": 3,
   "id": "aa024176",
   "metadata": {
    "execution": {
     "iopub.execute_input": "2022-07-04T15:25:56.507483Z",
     "iopub.status.busy": "2022-07-04T15:25:56.507160Z",
     "iopub.status.idle": "2022-07-04T15:25:56.533076Z",
     "shell.execute_reply": "2022-07-04T15:25:56.531204Z"
    },
    "papermill": {
     "duration": 0.034308,
     "end_time": "2022-07-04T15:25:56.535669",
     "exception": false,
     "start_time": "2022-07-04T15:25:56.501361",
     "status": "completed"
    },
    "tags": []
   },
   "outputs": [
    {
     "name": "stdout",
     "output_type": "stream",
     "text": [
      "(rows, columns) = (2332531, 12)\n"
     ]
    },
    {
     "data": {
      "text/html": [
       "<div>\n",
       "<style scoped>\n",
       "    .dataframe tbody tr th:only-of-type {\n",
       "        vertical-align: middle;\n",
       "    }\n",
       "\n",
       "    .dataframe tbody tr th {\n",
       "        vertical-align: top;\n",
       "    }\n",
       "\n",
       "    .dataframe thead th {\n",
       "        text-align: right;\n",
       "    }\n",
       "</style>\n",
       "<table border=\"1\" class=\"dataframe\">\n",
       "  <thead>\n",
       "    <tr style=\"text-align: right;\">\n",
       "      <th></th>\n",
       "      <th>RowId</th>\n",
       "      <th>Date</th>\n",
       "      <th>SecuritiesCode</th>\n",
       "      <th>Open</th>\n",
       "      <th>High</th>\n",
       "      <th>Low</th>\n",
       "      <th>Close</th>\n",
       "      <th>Volume</th>\n",
       "      <th>AdjustmentFactor</th>\n",
       "      <th>ExpectedDividend</th>\n",
       "      <th>SupervisionFlag</th>\n",
       "      <th>Target</th>\n",
       "    </tr>\n",
       "  </thead>\n",
       "  <tbody>\n",
       "    <tr>\n",
       "      <th>2332526</th>\n",
       "      <td>20211203_9990</td>\n",
       "      <td>2021-12-03</td>\n",
       "      <td>9990</td>\n",
       "      <td>514.0</td>\n",
       "      <td>528.0</td>\n",
       "      <td>513.0</td>\n",
       "      <td>528.0</td>\n",
       "      <td>44200</td>\n",
       "      <td>1.0</td>\n",
       "      <td>NaN</td>\n",
       "      <td>False</td>\n",
       "      <td>0.034816</td>\n",
       "    </tr>\n",
       "    <tr>\n",
       "      <th>2332527</th>\n",
       "      <td>20211203_9991</td>\n",
       "      <td>2021-12-03</td>\n",
       "      <td>9991</td>\n",
       "      <td>782.0</td>\n",
       "      <td>794.0</td>\n",
       "      <td>782.0</td>\n",
       "      <td>794.0</td>\n",
       "      <td>35900</td>\n",
       "      <td>1.0</td>\n",
       "      <td>NaN</td>\n",
       "      <td>False</td>\n",
       "      <td>0.025478</td>\n",
       "    </tr>\n",
       "    <tr>\n",
       "      <th>2332528</th>\n",
       "      <td>20211203_9993</td>\n",
       "      <td>2021-12-03</td>\n",
       "      <td>9993</td>\n",
       "      <td>1690.0</td>\n",
       "      <td>1690.0</td>\n",
       "      <td>1645.0</td>\n",
       "      <td>1645.0</td>\n",
       "      <td>7200</td>\n",
       "      <td>1.0</td>\n",
       "      <td>NaN</td>\n",
       "      <td>False</td>\n",
       "      <td>-0.004302</td>\n",
       "    </tr>\n",
       "    <tr>\n",
       "      <th>2332529</th>\n",
       "      <td>20211203_9994</td>\n",
       "      <td>2021-12-03</td>\n",
       "      <td>9994</td>\n",
       "      <td>2388.0</td>\n",
       "      <td>2396.0</td>\n",
       "      <td>2380.0</td>\n",
       "      <td>2389.0</td>\n",
       "      <td>6500</td>\n",
       "      <td>1.0</td>\n",
       "      <td>NaN</td>\n",
       "      <td>False</td>\n",
       "      <td>0.009098</td>\n",
       "    </tr>\n",
       "    <tr>\n",
       "      <th>2332530</th>\n",
       "      <td>20211203_9997</td>\n",
       "      <td>2021-12-03</td>\n",
       "      <td>9997</td>\n",
       "      <td>690.0</td>\n",
       "      <td>711.0</td>\n",
       "      <td>686.0</td>\n",
       "      <td>696.0</td>\n",
       "      <td>381100</td>\n",
       "      <td>1.0</td>\n",
       "      <td>NaN</td>\n",
       "      <td>False</td>\n",
       "      <td>0.018414</td>\n",
       "    </tr>\n",
       "  </tbody>\n",
       "</table>\n",
       "</div>"
      ],
      "text/plain": [
       "                 RowId        Date  SecuritiesCode    Open    High     Low  \\\n",
       "2332526  20211203_9990  2021-12-03            9990   514.0   528.0   513.0   \n",
       "2332527  20211203_9991  2021-12-03            9991   782.0   794.0   782.0   \n",
       "2332528  20211203_9993  2021-12-03            9993  1690.0  1690.0  1645.0   \n",
       "2332529  20211203_9994  2021-12-03            9994  2388.0  2396.0  2380.0   \n",
       "2332530  20211203_9997  2021-12-03            9997   690.0   711.0   686.0   \n",
       "\n",
       "          Close  Volume  AdjustmentFactor  ExpectedDividend  SupervisionFlag  \\\n",
       "2332526   528.0   44200               1.0               NaN            False   \n",
       "2332527   794.0   35900               1.0               NaN            False   \n",
       "2332528  1645.0    7200               1.0               NaN            False   \n",
       "2332529  2389.0    6500               1.0               NaN            False   \n",
       "2332530   696.0  381100               1.0               NaN            False   \n",
       "\n",
       "           Target  \n",
       "2332526  0.034816  \n",
       "2332527  0.025478  \n",
       "2332528 -0.004302  \n",
       "2332529  0.009098  \n",
       "2332530  0.018414  "
      ]
     },
     "execution_count": 3,
     "metadata": {},
     "output_type": "execute_result"
    }
   ],
   "source": [
    "print('(rows, columns) =', stock_price_df.shape)\n",
    "stock_price_df.tail()"
   ]
  },
  {
   "cell_type": "code",
   "execution_count": 4,
   "id": "082e96b2",
   "metadata": {
    "execution": {
     "iopub.execute_input": "2022-07-04T15:25:56.545542Z",
     "iopub.status.busy": "2022-07-04T15:25:56.545266Z",
     "iopub.status.idle": "2022-07-04T15:25:58.292218Z",
     "shell.execute_reply": "2022-07-04T15:25:58.291225Z"
    },
    "papermill": {
     "duration": 1.754656,
     "end_time": "2022-07-04T15:25:58.294770",
     "exception": false,
     "start_time": "2022-07-04T15:25:56.540114",
     "status": "completed"
    },
    "tags": []
   },
   "outputs": [],
   "source": [
    "import torch\n",
    "import torch.nn as nn\n",
    "import torch.nn.functional as F\n",
    "\n",
    "class LSTM(nn.Module):\n",
    "    def __init__(self, input_size=8, sequence_num=31, lstm_dim=128,\n",
    "                 num_layers=2, output_size=1):\n",
    "        super().__init__()\n",
    "        \n",
    "        self.lstm = nn.LSTM(input_size, lstm_dim, num_layers, batch_first=True, bidirectional=True)\n",
    "        self.linear1 = nn.Linear(lstm_dim*sequence_num*2, 1)\n",
    "        self.bn1 = nn.BatchNorm1d(lstm_dim*sequence_num*2)\n",
    "\n",
    "    def forward(self, x):\n",
    "        lstm_out, _ = self.lstm(x)\n",
    "        x = lstm_out.reshape(lstm_out.shape[0], -1)\n",
    "        x = self.linear1(self.bn1(x))\n",
    "        return x"
   ]
  },
  {
   "cell_type": "code",
   "execution_count": 5,
   "id": "4620000f",
   "metadata": {
    "execution": {
     "iopub.execute_input": "2022-07-04T15:25:58.305030Z",
     "iopub.status.busy": "2022-07-04T15:25:58.304580Z",
     "iopub.status.idle": "2022-07-04T15:25:58.928854Z",
     "shell.execute_reply": "2022-07-04T15:25:58.926834Z"
    },
    "papermill": {
     "duration": 0.631897,
     "end_time": "2022-07-04T15:25:58.931147",
     "exception": false,
     "start_time": "2022-07-04T15:25:58.299250",
     "status": "completed"
    },
    "tags": []
   },
   "outputs": [
    {
     "name": "stdout",
     "output_type": "stream",
     "text": [
      "<class 'pandas.core.frame.DataFrame'>\n",
      "RangeIndex: 2332531 entries, 0 to 2332530\n",
      "Data columns (total 12 columns):\n",
      " #   Column            Dtype         \n",
      "---  ------            -----         \n",
      " 0   RowId             object        \n",
      " 1   Date              datetime64[ns]\n",
      " 2   SecuritiesCode    int64         \n",
      " 3   Open              float64       \n",
      " 4   High              float64       \n",
      " 5   Low               float64       \n",
      " 6   Close             float64       \n",
      " 7   Volume            int64         \n",
      " 8   AdjustmentFactor  float64       \n",
      " 9   ExpectedDividend  float64       \n",
      " 10  SupervisionFlag   int64         \n",
      " 11  Target            float64       \n",
      "dtypes: datetime64[ns](1), float64(7), int64(3), object(1)\n",
      "memory usage: 213.5+ MB\n"
     ]
    }
   ],
   "source": [
    "stock_price_df['ExpectedDividend'] = stock_price_df['ExpectedDividend'].fillna(0)\n",
    "stock_price_df['SupervisionFlag'] = stock_price_df['SupervisionFlag'].map({True: 1, False: 0})\n",
    "stock_price_df['Date'] = pd.to_datetime(stock_price_df['Date'])\n",
    "stock_price_df.info()"
   ]
  },
  {
   "cell_type": "code",
   "execution_count": 6,
   "id": "e6baaf9a",
   "metadata": {
    "execution": {
     "iopub.execute_input": "2022-07-04T15:25:58.942386Z",
     "iopub.status.busy": "2022-07-04T15:25:58.942090Z",
     "iopub.status.idle": "2022-07-04T15:25:59.696625Z",
     "shell.execute_reply": "2022-07-04T15:25:59.695554Z"
    },
    "papermill": {
     "duration": 0.763393,
     "end_time": "2022-07-04T15:25:59.699361",
     "exception": false,
     "start_time": "2022-07-04T15:25:58.935968",
     "status": "completed"
    },
    "tags": []
   },
   "outputs": [
    {
     "data": {
      "text/html": [
       "<div>\n",
       "<style scoped>\n",
       "    .dataframe tbody tr th:only-of-type {\n",
       "        vertical-align: middle;\n",
       "    }\n",
       "\n",
       "    .dataframe tbody tr th {\n",
       "        vertical-align: top;\n",
       "    }\n",
       "\n",
       "    .dataframe thead th {\n",
       "        text-align: right;\n",
       "    }\n",
       "</style>\n",
       "<table border=\"1\" class=\"dataframe\">\n",
       "  <thead>\n",
       "    <tr style=\"text-align: right;\">\n",
       "      <th></th>\n",
       "      <th>Missing Ratio</th>\n",
       "    </tr>\n",
       "  </thead>\n",
       "  <tbody>\n",
       "  </tbody>\n",
       "</table>\n",
       "</div>"
      ],
      "text/plain": [
       "Empty DataFrame\n",
       "Columns: [Missing Ratio]\n",
       "Index: []"
      ]
     },
     "execution_count": 6,
     "metadata": {},
     "output_type": "execute_result"
    }
   ],
   "source": [
    "stock_price_df = stock_price_df.dropna(how='any')\n",
    "# Confirmation of missing information\n",
    "stock_price_df_na = (stock_price_df.isnull().sum() / len(stock_price_df)) * 100\n",
    "stock_price_df_na = stock_price_df_na.drop(stock_price_df_na[stock_price_df_na == 0].index).sort_values(ascending=False)[:30]\n",
    "missing_data = pd.DataFrame({'Missing Ratio' :stock_price_df_na})\n",
    "missing_data.head(22)"
   ]
  },
  {
   "cell_type": "code",
   "execution_count": 7,
   "id": "7bf9c1bf",
   "metadata": {
    "execution": {
     "iopub.execute_input": "2022-07-04T15:25:59.710163Z",
     "iopub.status.busy": "2022-07-04T15:25:59.709342Z",
     "iopub.status.idle": "2022-07-04T15:26:00.961663Z",
     "shell.execute_reply": "2022-07-04T15:26:00.960710Z"
    },
    "papermill": {
     "duration": 1.259799,
     "end_time": "2022-07-04T15:26:00.963708",
     "exception": false,
     "start_time": "2022-07-04T15:25:59.703909",
     "status": "completed"
    },
    "tags": []
   },
   "outputs": [
    {
     "data": {
      "text/html": [
       "<div>\n",
       "<style scoped>\n",
       "    .dataframe tbody tr th:only-of-type {\n",
       "        vertical-align: middle;\n",
       "    }\n",
       "\n",
       "    .dataframe tbody tr th {\n",
       "        vertical-align: top;\n",
       "    }\n",
       "\n",
       "    .dataframe thead th {\n",
       "        text-align: right;\n",
       "    }\n",
       "</style>\n",
       "<table border=\"1\" class=\"dataframe\">\n",
       "  <thead>\n",
       "    <tr style=\"text-align: right;\">\n",
       "      <th></th>\n",
       "      <th>RowId</th>\n",
       "      <th>Date</th>\n",
       "      <th>SecuritiesCode</th>\n",
       "      <th>Open</th>\n",
       "      <th>High</th>\n",
       "      <th>Low</th>\n",
       "      <th>Close</th>\n",
       "      <th>Volume</th>\n",
       "      <th>AdjustmentFactor</th>\n",
       "      <th>ExpectedDividend</th>\n",
       "      <th>SupervisionFlag</th>\n",
       "      <th>Target</th>\n",
       "    </tr>\n",
       "  </thead>\n",
       "  <tbody>\n",
       "    <tr>\n",
       "      <th>0</th>\n",
       "      <td>20170104_1301</td>\n",
       "      <td>2017-01-04</td>\n",
       "      <td>1301</td>\n",
       "      <td>0.038994</td>\n",
       "      <td>0.035493</td>\n",
       "      <td>0.047764</td>\n",
       "      <td>0.041374</td>\n",
       "      <td>-0.169192</td>\n",
       "      <td>-0.007493</td>\n",
       "      <td>-0.053484</td>\n",
       "      <td>-0.014769</td>\n",
       "      <td>0.000730</td>\n",
       "    </tr>\n",
       "    <tr>\n",
       "      <th>1</th>\n",
       "      <td>20170104_1332</td>\n",
       "      <td>2017-01-04</td>\n",
       "      <td>1332</td>\n",
       "      <td>-0.566509</td>\n",
       "      <td>-0.566547</td>\n",
       "      <td>-0.565510</td>\n",
       "      <td>-0.565637</td>\n",
       "      <td>0.537161</td>\n",
       "      <td>-0.007493</td>\n",
       "      <td>-0.053484</td>\n",
       "      <td>-0.014769</td>\n",
       "      <td>0.012324</td>\n",
       "    </tr>\n",
       "    <tr>\n",
       "      <th>2</th>\n",
       "      <td>20170104_1333</td>\n",
       "      <td>2017-01-04</td>\n",
       "      <td>1333</td>\n",
       "      <td>0.155286</td>\n",
       "      <td>0.161205</td>\n",
       "      <td>0.163796</td>\n",
       "      <td>0.172227</td>\n",
       "      <td>-0.108081</td>\n",
       "      <td>-0.007493</td>\n",
       "      <td>-0.053484</td>\n",
       "      <td>-0.014769</td>\n",
       "      <td>0.006154</td>\n",
       "    </tr>\n",
       "    <tr>\n",
       "      <th>3</th>\n",
       "      <td>20170104_1376</td>\n",
       "      <td>2017-01-04</td>\n",
       "      <td>1376</td>\n",
       "      <td>-0.303174</td>\n",
       "      <td>-0.297439</td>\n",
       "      <td>-0.297504</td>\n",
       "      <td>-0.291909</td>\n",
       "      <td>-0.174323</td>\n",
       "      <td>-0.007493</td>\n",
       "      <td>-0.053484</td>\n",
       "      <td>-0.014769</td>\n",
       "      <td>0.011053</td>\n",
       "    </tr>\n",
       "    <tr>\n",
       "      <th>4</th>\n",
       "      <td>20170104_1377</td>\n",
       "      <td>2017-01-04</td>\n",
       "      <td>1377</td>\n",
       "      <td>0.188832</td>\n",
       "      <td>0.199886</td>\n",
       "      <td>0.200587</td>\n",
       "      <td>0.205779</td>\n",
       "      <td>-0.138713</td>\n",
       "      <td>-0.007493</td>\n",
       "      <td>-0.053484</td>\n",
       "      <td>-0.014769</td>\n",
       "      <td>0.003026</td>\n",
       "    </tr>\n",
       "  </tbody>\n",
       "</table>\n",
       "</div>"
      ],
      "text/plain": [
       "           RowId       Date  SecuritiesCode      Open      High       Low  \\\n",
       "0  20170104_1301 2017-01-04            1301  0.038994  0.035493  0.047764   \n",
       "1  20170104_1332 2017-01-04            1332 -0.566509 -0.566547 -0.565510   \n",
       "2  20170104_1333 2017-01-04            1333  0.155286  0.161205  0.163796   \n",
       "3  20170104_1376 2017-01-04            1376 -0.303174 -0.297439 -0.297504   \n",
       "4  20170104_1377 2017-01-04            1377  0.188832  0.199886  0.200587   \n",
       "\n",
       "      Close    Volume  AdjustmentFactor  ExpectedDividend  SupervisionFlag  \\\n",
       "0  0.041374 -0.169192         -0.007493         -0.053484        -0.014769   \n",
       "1 -0.565637  0.537161         -0.007493         -0.053484        -0.014769   \n",
       "2  0.172227 -0.108081         -0.007493         -0.053484        -0.014769   \n",
       "3 -0.291909 -0.174323         -0.007493         -0.053484        -0.014769   \n",
       "4  0.205779 -0.138713         -0.007493         -0.053484        -0.014769   \n",
       "\n",
       "     Target  \n",
       "0  0.000730  \n",
       "1  0.012324  \n",
       "2  0.006154  \n",
       "3  0.011053  \n",
       "4  0.003026  "
      ]
     },
     "execution_count": 7,
     "metadata": {},
     "output_type": "execute_result"
    }
   ],
   "source": [
    "from sklearn.preprocessing import StandardScaler\n",
    "stdsc = StandardScaler()\n",
    "columns = ['Open', 'High', 'Low', 'Close', 'Volume', 'AdjustmentFactor', 'ExpectedDividend', 'SupervisionFlag']\n",
    "stock_price_df[columns] = stdsc.fit_transform(stock_price_df[columns])\n",
    "stock_price_df.head()"
   ]
  },
  {
   "cell_type": "code",
   "execution_count": 8,
   "id": "3f326f55",
   "metadata": {
    "execution": {
     "iopub.execute_input": "2022-07-04T15:26:00.975119Z",
     "iopub.status.busy": "2022-07-04T15:26:00.974837Z",
     "iopub.status.idle": "2022-07-04T15:26:20.964852Z",
     "shell.execute_reply": "2022-07-04T15:26:20.962815Z"
    },
    "papermill": {
     "duration": 19.997992,
     "end_time": "2022-07-04T15:26:20.967193",
     "exception": false,
     "start_time": "2022-07-04T15:26:00.969201",
     "status": "completed"
    },
    "tags": []
   },
   "outputs": [
    {
     "name": "stdout",
     "output_type": "stream",
     "text": [
      "(1201, 9)\n"
     ]
    }
   ],
   "source": [
    "dataset_dict = {}\n",
    "for sc in stock_price_df['SecuritiesCode'].unique():\n",
    "    dataset_dict[str(sc)] = stock_price_df[stock_price_df['SecuritiesCode'] == sc].values[:, 3:].astype(np.float32)\n",
    "print(dataset_dict['1301'].shape)"
   ]
  },
  {
   "cell_type": "code",
   "execution_count": 9,
   "id": "7ba6ab31",
   "metadata": {
    "execution": {
     "iopub.execute_input": "2022-07-04T15:26:20.978172Z",
     "iopub.status.busy": "2022-07-04T15:26:20.977873Z",
     "iopub.status.idle": "2022-07-04T15:26:21.004586Z",
     "shell.execute_reply": "2022-07-04T15:26:21.003683Z"
    },
    "papermill": {
     "duration": 0.034275,
     "end_time": "2022-07-04T15:26:21.006361",
     "exception": false,
     "start_time": "2022-07-04T15:26:20.972086",
     "status": "completed"
    },
    "tags": []
   },
   "outputs": [
    {
     "name": "stdout",
     "output_type": "stream",
     "text": [
      "---------\n",
      "torch.Size([32, 31, 8]) torch.Size([32])\n"
     ]
    }
   ],
   "source": [
    "from torch.utils.data.sampler import SubsetRandomSampler\n",
    "class MyDataset(torch.utils.data.Dataset):\n",
    "    def __init__(self, X, sequence_num=31, y=None, mode='train'):\n",
    "        self.data = X\n",
    "        self.teacher = y\n",
    "        self.sequence_num = sequence_num\n",
    "        self.mode = mode\n",
    "    def __len__(self):\n",
    "        return len(self.teacher)\n",
    "\n",
    "    def __getitem__(self, idx):\n",
    "        out_data = self.data[idx]\n",
    "        if self.mode == 'train':\n",
    "            out_label =  self.teacher[idx[-1]]\n",
    "            return out_data, out_label\n",
    "        else:\n",
    "            return out_data\n",
    "def create_dataloader(dataset, dataset_num, sequence_num=31, input_size=8, batch_size=32, shuffle=False):\n",
    "    sampler = np.array([list(range(i, i+sequence_num)) for i in range(dataset_num-sequence_num+1)])\n",
    "    if shuffle == True:\n",
    "        np.random.shuffle(sampler)\n",
    "    dataloader = torch.utils.data.DataLoader(dataset, batch_size, sampler=sampler)\n",
    "    return dataloader\n",
    "#### Check operation ####\n",
    "X_check, y_check = dataset_dict['1301'][:, :-1], dataset_dict['1301'][:, -1]\n",
    "dataset_check = MyDataset(X_check, y=y_check, sequence_num=31, mode='train')\n",
    "dataloader_check = create_dataloader(dataset_check, X_check.shape[0], sequence_num=31, input_size=8, batch_size=32, shuffle=False)\n",
    "for b, tup in enumerate(dataloader_check):\n",
    "    print('---------')\n",
    "    print(tup[0].shape, tup[1].shape)\n",
    "    break"
   ]
  },
  {
   "cell_type": "code",
   "execution_count": 10,
   "id": "2892fd3c",
   "metadata": {
    "execution": {
     "iopub.execute_input": "2022-07-04T15:26:21.017707Z",
     "iopub.status.busy": "2022-07-04T15:26:21.016976Z",
     "iopub.status.idle": "2022-07-04T15:44:07.647652Z",
     "shell.execute_reply": "2022-07-04T15:44:07.646140Z"
    },
    "papermill": {
     "duration": 1066.63889,
     "end_time": "2022-07-04T15:44:07.650151",
     "exception": false,
     "start_time": "2022-07-04T15:26:21.011261",
     "status": "completed"
    },
    "tags": []
   },
   "outputs": [
    {
     "name": "stderr",
     "output_type": "stream",
     "text": [
      "100%|██████████| 2000/2000 [01:47<00:00, 18.64it/s]\n"
     ]
    },
    {
     "name": "stdout",
     "output_type": "stream",
     "text": [
      "epoch_loss=0.003735576762897113\n"
     ]
    },
    {
     "name": "stderr",
     "output_type": "stream",
     "text": [
      "100%|██████████| 2000/2000 [01:46<00:00, 18.81it/s]\n"
     ]
    },
    {
     "name": "stdout",
     "output_type": "stream",
     "text": [
      "epoch_loss=0.00102579251111847\n"
     ]
    },
    {
     "name": "stderr",
     "output_type": "stream",
     "text": [
      "100%|██████████| 2000/2000 [01:45<00:00, 18.90it/s]\n"
     ]
    },
    {
     "name": "stdout",
     "output_type": "stream",
     "text": [
      "epoch_loss=0.0005804501130058418\n"
     ]
    },
    {
     "name": "stderr",
     "output_type": "stream",
     "text": [
      "100%|██████████| 2000/2000 [01:45<00:00, 18.87it/s]\n"
     ]
    },
    {
     "name": "stdout",
     "output_type": "stream",
     "text": [
      "epoch_loss=0.00039218660293389746\n"
     ]
    },
    {
     "name": "stderr",
     "output_type": "stream",
     "text": [
      "100%|██████████| 2000/2000 [01:45<00:00, 18.93it/s]\n"
     ]
    },
    {
     "name": "stdout",
     "output_type": "stream",
     "text": [
      "epoch_loss=0.00029446537321374885\n"
     ]
    },
    {
     "name": "stderr",
     "output_type": "stream",
     "text": [
      "100%|██████████| 2000/2000 [01:46<00:00, 18.85it/s]\n"
     ]
    },
    {
     "name": "stdout",
     "output_type": "stream",
     "text": [
      "epoch_loss=0.0002291114349804186\n"
     ]
    },
    {
     "name": "stderr",
     "output_type": "stream",
     "text": [
      "100%|██████████| 2000/2000 [01:46<00:00, 18.83it/s]\n"
     ]
    },
    {
     "name": "stdout",
     "output_type": "stream",
     "text": [
      "epoch_loss=0.0001881660559168414\n"
     ]
    },
    {
     "name": "stderr",
     "output_type": "stream",
     "text": [
      "100%|██████████| 2000/2000 [01:46<00:00, 18.70it/s]\n"
     ]
    },
    {
     "name": "stdout",
     "output_type": "stream",
     "text": [
      "epoch_loss=0.00015819012146721785\n"
     ]
    },
    {
     "name": "stderr",
     "output_type": "stream",
     "text": [
      "100%|██████████| 2000/2000 [01:46<00:00, 18.81it/s]\n"
     ]
    },
    {
     "name": "stdout",
     "output_type": "stream",
     "text": [
      "epoch_loss=0.00013707769888671428\n"
     ]
    },
    {
     "name": "stderr",
     "output_type": "stream",
     "text": [
      "100%|██████████| 2000/2000 [01:46<00:00, 18.82it/s]"
     ]
    },
    {
     "name": "stdout",
     "output_type": "stream",
     "text": [
      "epoch_loss=0.0001186204229194607\n"
     ]
    },
    {
     "name": "stderr",
     "output_type": "stream",
     "text": [
      "\n"
     ]
    }
   ],
   "source": [
    "from tqdm import tqdm\n",
    "epochs = 10\n",
    "batch_size = 512\n",
    "# Check wheter GPU is available\n",
    "device = torch.device('cuda:0' if torch.cuda.is_available() else 'cpu')\n",
    "# Model Instantiation\n",
    "model = LSTM(input_size=8, sequence_num=31, lstm_dim=128, num_layers=2, output_size=1)\n",
    "model.to(device)\n",
    "model.train()\n",
    "# setting optimizer\n",
    "lr = 0.0001\n",
    "weight_decay = 1.0e-05\n",
    "optimizer = torch.optim.Adagrad(model.parameters(), lr=lr, weight_decay=weight_decay)\n",
    "# setting criterion\n",
    "criterion = nn.MSELoss()\n",
    "# set iteration counter\n",
    "iteration = 0\n",
    "# \n",
    "log_train = [[0], [np.inf]]\n",
    "for epoch in range(epochs):\n",
    "    epoch_loss = 0.0\n",
    "    for sc in tqdm(stock_price_df['SecuritiesCode'].unique()):\n",
    "        X, y = dataset_dict[str(sc)][:, :-1], dataset_dict[str(sc)][:, -1]\n",
    "        dataset = MyDataset(X, y=y, sequence_num=31, mode='train')\n",
    "        dataloader = create_dataloader(dataset, X.shape[0], sequence_num=31, input_size=8, batch_size=batch_size, shuffle=True)\n",
    "        for data, targets in dataloader:\n",
    "            data, targets = data.to(device), targets.to(device)\n",
    "            \n",
    "            optimizer.zero_grad()\n",
    "            \n",
    "            data = data.to(torch.float32)\n",
    "            output = model.forward(data)\n",
    "            targets = targets.to(torch.float32)\n",
    "            \n",
    "            loss = criterion(output.view(1,-1)[0], targets)\n",
    "            \n",
    "            loss.backward()\n",
    "            \n",
    "            optimizer.step()\n",
    "            \n",
    "            epoch_loss += loss.item()\n",
    "            \n",
    "            iteration += 1\n",
    "    epoch_loss /= iteration\n",
    "    print('epoch_loss={}'.format(epoch_loss))\n",
    "    log_train[0].append(iteration)\n",
    "    log_train[1].append(epoch_loss)"
   ]
  },
  {
   "cell_type": "code",
   "execution_count": 11,
   "id": "5422fec5",
   "metadata": {
    "execution": {
     "iopub.execute_input": "2022-07-04T15:44:08.832479Z",
     "iopub.status.busy": "2022-07-04T15:44:08.832125Z",
     "iopub.status.idle": "2022-07-04T15:44:09.026609Z",
     "shell.execute_reply": "2022-07-04T15:44:09.025767Z"
    },
    "papermill": {
     "duration": 0.755841,
     "end_time": "2022-07-04T15:44:09.028657",
     "exception": false,
     "start_time": "2022-07-04T15:44:08.272816",
     "status": "completed"
    },
    "tags": []
   },
   "outputs": [
    {
     "data": {
      "image/png": "[encoded data removed]",
      "text/plain": [
       "<Figure size 432x288 with 1 Axes>"
      ]
     },
     "metadata": {
      "needs_background": "light"
     },
     "output_type": "display_data"
    }
   ],
   "source": [
    "import matplotlib.pyplot as plt\n",
    "plt.plot(log_train[0][1:], log_train[1][1:])\n",
    "plt.xlabel('epoch')\n",
    "plt.ylabel('loss')\n",
    "plt.show()"
   ]
  },
  {
   "cell_type": "code",
   "execution_count": 12,
   "id": "2b620cdc",
   "metadata": {
    "execution": {
     "iopub.execute_input": "2022-07-04T15:44:10.697791Z",
     "iopub.status.busy": "2022-07-04T15:44:10.697421Z",
     "iopub.status.idle": "2022-07-04T15:44:14.520198Z",
     "shell.execute_reply": "2022-07-04T15:44:14.516507Z"
    },
    "papermill": {
     "duration": 4.79046,
     "end_time": "2022-07-04T15:44:14.523715",
     "exception": false,
     "start_time": "2022-07-04T15:44:09.733255",
     "status": "completed"
    },
    "tags": []
   },
   "outputs": [
    {
     "name": "stdout",
     "output_type": "stream",
     "text": [
      "(1995, 3)\n",
      "              Date  SecuritiesCode  Rank\n",
      "2330531 2021-12-03            1301  1660\n",
      "2330532 2021-12-03            1332    89\n",
      "2330533 2021-12-03            1333  1444\n",
      "2330534 2021-12-03            1375   778\n",
      "2330535 2021-12-03            1376   695\n",
      "...            ...             ...   ...\n",
      "2332526 2021-12-03            9990   626\n",
      "2332527 2021-12-03            9991   667\n",
      "2332528 2021-12-03            9993  1173\n",
      "2332529 2021-12-03            9994  1506\n",
      "2332530 2021-12-03            9997   570\n",
      "\n",
      "[1995 rows x 3 columns]\n"
     ]
    },
    {
     "name": "stderr",
     "output_type": "stream",
     "text": [
      "/opt/conda/lib/python3.7/site-packages/ipykernel_launcher.py:26: SettingWithCopyWarning: \n",
      "A value is trying to be set on a copy of a slice from a DataFrame.\n",
      "Try using .loc[row_indexer,col_indexer] = value instead\n",
      "\n",
      "See the caveats in the documentation: https://pandas.pydata.org/pandas-docs/stable/user_guide/indexing.html#returning-a-view-versus-a-copy\n",
      "/opt/conda/lib/python3.7/site-packages/ipykernel_launcher.py:27: SettingWithCopyWarning: \n",
      "A value is trying to be set on a copy of a slice from a DataFrame.\n",
      "Try using .loc[row_indexer,col_indexer] = value instead\n",
      "\n",
      "See the caveats in the documentation: https://pandas.pydata.org/pandas-docs/stable/user_guide/indexing.html#returning-a-view-versus-a-copy\n",
      "/opt/conda/lib/python3.7/site-packages/ipykernel_launcher.py:28: SettingWithCopyWarning: \n",
      "A value is trying to be set on a copy of a slice from a DataFrame.\n",
      "Try using .loc[row_indexer,col_indexer] = value instead\n",
      "\n",
      "See the caveats in the documentation: https://pandas.pydata.org/pandas-docs/stable/user_guide/indexing.html#returning-a-view-versus-a-copy\n"
     ]
    }
   ],
   "source": [
    "from datetime import datetime\n",
    "def predict(model, X_df, sequence=31):\n",
    "    pred_df = X_df[['Date', 'SecuritiesCode']]\n",
    "    # Grouping by `groupby` and retrieving one by one\n",
    "    code_group = X_df.groupby('SecuritiesCode')\n",
    "    X_all = np.array([])\n",
    "    for sc, group in code_group:\n",
    "        # Standardize target data\n",
    "        group_std = stdsc.transform(group[columns])\n",
    "        # Calling up past data of the target data\n",
    "        X = dataset_dict[str(sc)][-1*(sequence-1):, :-1]\n",
    "        # concat\n",
    "        X = np.vstack((X, group_std))\n",
    "        X_all = np.append(X_all, X)\n",
    "    X_all = X_all.reshape(-1, sequence, X.shape[1])\n",
    "    y_pred = np.array([])\n",
    "    for it in range(X_all.shape[0]//512+1):\n",
    "        data = X_all[it*512:(it+1)*512]\n",
    "        data = torch.from_numpy(data.astype(np.float32)).clone()\n",
    "        data = data.to(torch.float32)\n",
    "        data = data.to(device)\n",
    "        output = model.forward(data)\n",
    "        output = output.view(1, -1)\n",
    "        output = output.to('cpu').detach().numpy().copy()\n",
    "        y_pred = np.append(y_pred, output[0])\n",
    "    pred_df['target'] = y_pred\n",
    "    pred_df['Rank'] = pred_df[\"target\"].rank(ascending=False,method=\"first\") -1\n",
    "    pred_df['Rank'] = pred_df['Rank'].astype(int)\n",
    "    pred_df = pred_df.drop('target', axis=1)\n",
    "    return pred_df\n",
    "test_X_df = stock_price_df[stock_price_df['Date'] == datetime(2021, 12, 3)].drop('Target', axis=1)\n",
    "y_pred = predict(model, test_X_df)\n",
    "print(y_pred.shape)\n",
    "print(y_pred)"
   ]
  },
  {
   "cell_type": "code",
   "execution_count": 13,
   "id": "15046de7",
   "metadata": {
    "execution": {
     "iopub.execute_input": "2022-07-04T15:44:15.785195Z",
     "iopub.status.busy": "2022-07-04T15:44:15.784840Z",
     "iopub.status.idle": "2022-07-04T15:44:15.813123Z",
     "shell.execute_reply": "2022-07-04T15:44:15.812240Z"
    },
    "papermill": {
     "duration": 0.666729,
     "end_time": "2022-07-04T15:44:15.815256",
     "exception": false,
     "start_time": "2022-07-04T15:44:15.148527",
     "status": "completed"
    },
    "tags": []
   },
   "outputs": [],
   "source": [
    "import jpx_tokyo_market_prediction\n",
    "env = jpx_tokyo_market_prediction.make_env()\n",
    "iter_test = env.iter_test()"
   ]
  },
  {
   "cell_type": "code",
   "execution_count": 14,
   "id": "f9b93b5b",
   "metadata": {
    "execution": {
     "iopub.execute_input": "2022-07-04T15:44:16.942492Z",
     "iopub.status.busy": "2022-07-04T15:44:16.942141Z",
     "iopub.status.idle": "2022-07-04T15:44:25.239177Z",
     "shell.execute_reply": "2022-07-04T15:44:25.237238Z"
    },
    "papermill": {
     "duration": 8.864017,
     "end_time": "2022-07-04T15:44:25.241916",
     "exception": false,
     "start_time": "2022-07-04T15:44:16.377899",
     "status": "completed"
    },
    "tags": []
   },
   "outputs": [
    {
     "name": "stdout",
     "output_type": "stream",
     "text": [
      "This version of the API is not optimized and should not be used to estimate the runtime of your code on the hidden test set.\n"
     ]
    },
    {
     "name": "stderr",
     "output_type": "stream",
     "text": [
      "/opt/conda/lib/python3.7/site-packages/ipykernel_launcher.py:26: SettingWithCopyWarning: \n",
      "A value is trying to be set on a copy of a slice from a DataFrame.\n",
      "Try using .loc[row_indexer,col_indexer] = value instead\n",
      "\n",
      "See the caveats in the documentation: https://pandas.pydata.org/pandas-docs/stable/user_guide/indexing.html#returning-a-view-versus-a-copy\n",
      "/opt/conda/lib/python3.7/site-packages/ipykernel_launcher.py:27: SettingWithCopyWarning: \n",
      "A value is trying to be set on a copy of a slice from a DataFrame.\n",
      "Try using .loc[row_indexer,col_indexer] = value instead\n",
      "\n",
      "See the caveats in the documentation: https://pandas.pydata.org/pandas-docs/stable/user_guide/indexing.html#returning-a-view-versus-a-copy\n",
      "/opt/conda/lib/python3.7/site-packages/ipykernel_launcher.py:28: SettingWithCopyWarning: \n",
      "A value is trying to be set on a copy of a slice from a DataFrame.\n",
      "Try using .loc[row_indexer,col_indexer] = value instead\n",
      "\n",
      "See the caveats in the documentation: https://pandas.pydata.org/pandas-docs/stable/user_guide/indexing.html#returning-a-view-versus-a-copy\n"
     ]
    },
    {
     "name": "stdout",
     "output_type": "stream",
     "text": [
      "           Date  SecuritiesCode  Rank\n",
      "0    2021-12-06            1301  1566\n",
      "1    2021-12-06            1332   107\n",
      "2    2021-12-06            1333  1362\n",
      "3    2021-12-06            1375   712\n",
      "4    2021-12-06            1376   623\n",
      "...         ...             ...   ...\n",
      "1995 2021-12-06            9990   347\n",
      "1996 2021-12-06            9991   405\n",
      "1997 2021-12-06            9993   970\n",
      "1998 2021-12-06            9994  1374\n",
      "1999 2021-12-06            9997   390\n",
      "\n",
      "[2000 rows x 3 columns]\n",
      "           Date  SecuritiesCode  Rank\n",
      "0    2021-12-07            1301  1563\n",
      "1    2021-12-07            1332    53\n",
      "2    2021-12-07            1333  1363\n",
      "3    2021-12-07            1375   721\n",
      "4    2021-12-07            1376   629\n",
      "...         ...             ...   ...\n",
      "1995 2021-12-07            9990   344\n",
      "1996 2021-12-07            9991   406\n",
      "1997 2021-12-07            9993   963\n",
      "1998 2021-12-07            9994  1373\n",
      "1999 2021-12-07            9997   395\n",
      "\n",
      "[2000 rows x 3 columns]\n"
     ]
    },
    {
     "name": "stderr",
     "output_type": "stream",
     "text": [
      "/opt/conda/lib/python3.7/site-packages/ipykernel_launcher.py:26: SettingWithCopyWarning: \n",
      "A value is trying to be set on a copy of a slice from a DataFrame.\n",
      "Try using .loc[row_indexer,col_indexer] = value instead\n",
      "\n",
      "See the caveats in the documentation: https://pandas.pydata.org/pandas-docs/stable/user_guide/indexing.html#returning-a-view-versus-a-copy\n",
      "/opt/conda/lib/python3.7/site-packages/ipykernel_launcher.py:27: SettingWithCopyWarning: \n",
      "A value is trying to be set on a copy of a slice from a DataFrame.\n",
      "Try using .loc[row_indexer,col_indexer] = value instead\n",
      "\n",
      "See the caveats in the documentation: https://pandas.pydata.org/pandas-docs/stable/user_guide/indexing.html#returning-a-view-versus-a-copy\n",
      "/opt/conda/lib/python3.7/site-packages/ipykernel_launcher.py:28: SettingWithCopyWarning: \n",
      "A value is trying to be set on a copy of a slice from a DataFrame.\n",
      "Try using .loc[row_indexer,col_indexer] = value instead\n",
      "\n",
      "See the caveats in the documentation: https://pandas.pydata.org/pandas-docs/stable/user_guide/indexing.html#returning-a-view-versus-a-copy\n"
     ]
    }
   ],
   "source": [
    "count = 0\n",
    "for (prices, options, financials, trades, secondary_prices, sample_prediction) in iter_test:\n",
    "    prices = prices.fillna(0)\n",
    "    prices['SupervisionFlag'] = prices['SupervisionFlag'].map({True: 1, False: 0})\n",
    "    prices['Date'] = pd.to_datetime(prices['Date'])\n",
    "    pred_df = predict(model, prices)\n",
    "    print(pred_df)\n",
    "    env.predict(pred_df)\n",
    "    count += 1"
   ]
  }
 ],
 "metadata": {
  "kernelspec": {
   "display_name": "Python 3",
   "language": "python",
   "name": "python3"
  },
  "language_info": {
   "codemirror_mode": {
    "name": "ipython",
    "version": 3
   },
   "file_extension": ".py",
   "mimetype": "text/x-python",
   "name": "python",
   "nbconvert_exporter": "python",
   "pygments_lexer": "ipython3",
   "version": "3.7.12"
  },
  "papermill": {
   "default_parameters": {},
   "duration": 1123.907837,
   "end_time": "2022-07-04T15:44:27.122192",
   "environment_variables": {},
   "exception": null,
   "input_path": "__notebook__.ipynb",
   "output_path": "__notebook__.ipynb",
   "parameters": {},
   "start_time": "2022-07-04T15:25:43.214355",
   "version": "2.3.4"
  }
 },
 "nbformat": 4,
 "nbformat_minor": 5
}
