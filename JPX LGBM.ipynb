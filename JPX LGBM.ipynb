{
 "cells": [
  {
   "cell_type": "code",
   "execution_count": 1,
   "id": "5d55cad5",
   "metadata": {
    "_cell_guid": "b1076dfc-b9ad-4769-8c92-a6c4dae69d19",
    "_uuid": "8f2839f25d086af736a60e9eeb907d3b93b6e0e5",
    "execution": {
     "iopub.execute_input": "2022-07-01T09:17:04.120949Z",
     "iopub.status.busy": "2022-07-01T09:17:04.120529Z",
     "iopub.status.idle": "2022-07-01T09:17:04.151352Z",
     "shell.execute_reply": "2022-07-01T09:17:04.150195Z"
    },
    "papermill": {
     "duration": 0.043106,
     "end_time": "2022-07-01T09:17:04.154203",
     "exception": false,
     "start_time": "2022-07-01T09:17:04.111097",
     "status": "completed"
    },
    "tags": []
   },
   "outputs": [
    {
     "name": "stdout",
     "output_type": "stream",
     "text": [
      "/kaggle/input/jpx-tokyo-stock-exchange-prediction/stock_list.csv\n",
      "/kaggle/input/jpx-tokyo-stock-exchange-prediction/example_test_files/sample_submission.csv\n",
      "/kaggle/input/jpx-tokyo-stock-exchange-prediction/example_test_files/options.csv\n",
      "/kaggle/input/jpx-tokyo-stock-exchange-prediction/example_test_files/financials.csv\n",
      "/kaggle/input/jpx-tokyo-stock-exchange-prediction/example_test_files/secondary_stock_prices.csv\n",
      "/kaggle/input/jpx-tokyo-stock-exchange-prediction/example_test_files/trades.csv\n",
      "/kaggle/input/jpx-tokyo-stock-exchange-prediction/example_test_files/stock_prices.csv\n",
      "/kaggle/input/jpx-tokyo-stock-exchange-prediction/jpx_tokyo_market_prediction/competition.cpython-37m-x86_64-linux-gnu.so\n",
      "/kaggle/input/jpx-tokyo-stock-exchange-prediction/jpx_tokyo_market_prediction/__init__.py\n",
      "/kaggle/input/jpx-tokyo-stock-exchange-prediction/data_specifications/stock_fin_spec.csv\n",
      "/kaggle/input/jpx-tokyo-stock-exchange-prediction/data_specifications/trades_spec.csv\n",
      "/kaggle/input/jpx-tokyo-stock-exchange-prediction/data_specifications/stock_price_spec.csv\n",
      "/kaggle/input/jpx-tokyo-stock-exchange-prediction/data_specifications/options_spec.csv\n",
      "/kaggle/input/jpx-tokyo-stock-exchange-prediction/data_specifications/stock_list_spec.csv\n",
      "/kaggle/input/jpx-tokyo-stock-exchange-prediction/train_files/options.csv\n",
      "/kaggle/input/jpx-tokyo-stock-exchange-prediction/train_files/financials.csv\n",
      "/kaggle/input/jpx-tokyo-stock-exchange-prediction/train_files/secondary_stock_prices.csv\n",
      "/kaggle/input/jpx-tokyo-stock-exchange-prediction/train_files/trades.csv\n",
      "/kaggle/input/jpx-tokyo-stock-exchange-prediction/train_files/stock_prices.csv\n",
      "/kaggle/input/jpx-tokyo-stock-exchange-prediction/supplemental_files/options.csv\n",
      "/kaggle/input/jpx-tokyo-stock-exchange-prediction/supplemental_files/financials.csv\n",
      "/kaggle/input/jpx-tokyo-stock-exchange-prediction/supplemental_files/secondary_stock_prices.csv\n",
      "/kaggle/input/jpx-tokyo-stock-exchange-prediction/supplemental_files/trades.csv\n",
      "/kaggle/input/jpx-tokyo-stock-exchange-prediction/supplemental_files/stock_prices.csv\n"
     ]
    }
   ],
   "source": [
    "# This Python 3 environment comes with many helpful analytics libraries installed\n",
    "# It is defined by the kaggle/python Docker image: https://github.com/kaggle/docker-python\n",
    "# For example, here's several helpful packages to load\n",
    "\n",
    "import numpy as np # linear algebra\n",
    "import pandas as pd # data processing, CSV file I/O (e.g. pd.read_csv)\n",
    "\n",
    "# Input data files are available in the read-only \"../input/\" directory\n",
    "# For example, running this (by clicking run or pressing Shift+Enter) will list all files under the input directory\n",
    "\n",
    "import os\n",
    "for dirname, _, filenames in os.walk('/kaggle/input'):\n",
    "    for filename in filenames:\n",
    "        print(os.path.join(dirname, filename))\n",
    "\n",
    "# You can write up to 20GB to the current directory (/kaggle/working/) that gets preserved as output when you create a version using \"Save & Run All\" \n",
    "# You can also write temporary files to /kaggle/temp/, but they won't be saved outside of the current session"
   ]
  },
  {
   "cell_type": "code",
   "execution_count": 2,
   "id": "f2e8e660",
   "metadata": {
    "execution": {
     "iopub.execute_input": "2022-07-01T09:17:04.169810Z",
     "iopub.status.busy": "2022-07-01T09:17:04.168919Z",
     "iopub.status.idle": "2022-07-01T09:17:05.382779Z",
     "shell.execute_reply": "2022-07-01T09:17:05.381376Z"
    },
    "papermill": {
     "duration": 1.223883,
     "end_time": "2022-07-01T09:17:05.385189",
     "exception": false,
     "start_time": "2022-07-01T09:17:04.161306",
     "status": "completed"
    },
    "tags": []
   },
   "outputs": [],
   "source": [
    "import math # Mathematical functions\n",
    "from datetime import date # Date Functions \n",
    "import matplotlib.pyplot as plt # Important package for visualization - we use this to plot the market data \n",
    "import matplotlib.dates as mdates # Formatting dates\n",
    "import seaborn as sns # Visualization\n",
    "import numpy as np # linear algebra\n",
    "import pandas as pd # data processing, CSV file I/O (e.g. pd.read_csv)\n",
    "import warnings, gc\n",
    "import matplotlib.colors"
   ]
  },
  {
   "cell_type": "code",
   "execution_count": 3,
   "id": "e4592d00",
   "metadata": {
    "execution": {
     "iopub.execute_input": "2022-07-01T09:17:05.400760Z",
     "iopub.status.busy": "2022-07-01T09:17:05.399743Z",
     "iopub.status.idle": "2022-07-01T09:17:11.374082Z",
     "shell.execute_reply": "2022-07-01T09:17:11.372852Z"
    },
    "papermill": {
     "duration": 5.9845,
     "end_time": "2022-07-01T09:17:11.376309",
     "exception": false,
     "start_time": "2022-07-01T09:17:05.391809",
     "status": "completed"
    },
    "tags": []
   },
   "outputs": [
    {
     "data": {
      "text/html": [
       "<div>\n",
       "<style scoped>\n",
       "    .dataframe tbody tr th:only-of-type {\n",
       "        vertical-align: middle;\n",
       "    }\n",
       "\n",
       "    .dataframe tbody tr th {\n",
       "        vertical-align: top;\n",
       "    }\n",
       "\n",
       "    .dataframe thead th {\n",
       "        text-align: right;\n",
       "    }\n",
       "</style>\n",
       "<table border=\"1\" class=\"dataframe\">\n",
       "  <thead>\n",
       "    <tr style=\"text-align: right;\">\n",
       "      <th></th>\n",
       "      <th>RowId</th>\n",
       "      <th>Date</th>\n",
       "      <th>SecuritiesCode</th>\n",
       "      <th>Open</th>\n",
       "      <th>High</th>\n",
       "      <th>Low</th>\n",
       "      <th>Close</th>\n",
       "      <th>Volume</th>\n",
       "      <th>AdjustmentFactor</th>\n",
       "      <th>ExpectedDividend</th>\n",
       "      <th>SupervisionFlag</th>\n",
       "      <th>Target</th>\n",
       "    </tr>\n",
       "  </thead>\n",
       "  <tbody>\n",
       "    <tr>\n",
       "      <th>0</th>\n",
       "      <td>20170104_1301</td>\n",
       "      <td>2017-01-04</td>\n",
       "      <td>1301</td>\n",
       "      <td>2734.0</td>\n",
       "      <td>2755.0</td>\n",
       "      <td>2730.0</td>\n",
       "      <td>2742.0</td>\n",
       "      <td>31400</td>\n",
       "      <td>1.0</td>\n",
       "      <td>NaN</td>\n",
       "      <td>False</td>\n",
       "      <td>0.000730</td>\n",
       "    </tr>\n",
       "    <tr>\n",
       "      <th>1</th>\n",
       "      <td>20170104_1332</td>\n",
       "      <td>2017-01-04</td>\n",
       "      <td>1332</td>\n",
       "      <td>568.0</td>\n",
       "      <td>576.0</td>\n",
       "      <td>563.0</td>\n",
       "      <td>571.0</td>\n",
       "      <td>2798500</td>\n",
       "      <td>1.0</td>\n",
       "      <td>NaN</td>\n",
       "      <td>False</td>\n",
       "      <td>0.012324</td>\n",
       "    </tr>\n",
       "    <tr>\n",
       "      <th>2</th>\n",
       "      <td>20170104_1333</td>\n",
       "      <td>2017-01-04</td>\n",
       "      <td>1333</td>\n",
       "      <td>3150.0</td>\n",
       "      <td>3210.0</td>\n",
       "      <td>3140.0</td>\n",
       "      <td>3210.0</td>\n",
       "      <td>270800</td>\n",
       "      <td>1.0</td>\n",
       "      <td>NaN</td>\n",
       "      <td>False</td>\n",
       "      <td>0.006154</td>\n",
       "    </tr>\n",
       "    <tr>\n",
       "      <th>3</th>\n",
       "      <td>20170104_1376</td>\n",
       "      <td>2017-01-04</td>\n",
       "      <td>1376</td>\n",
       "      <td>1510.0</td>\n",
       "      <td>1550.0</td>\n",
       "      <td>1510.0</td>\n",
       "      <td>1550.0</td>\n",
       "      <td>11300</td>\n",
       "      <td>1.0</td>\n",
       "      <td>NaN</td>\n",
       "      <td>False</td>\n",
       "      <td>0.011053</td>\n",
       "    </tr>\n",
       "    <tr>\n",
       "      <th>4</th>\n",
       "      <td>20170104_1377</td>\n",
       "      <td>2017-01-04</td>\n",
       "      <td>1377</td>\n",
       "      <td>3270.0</td>\n",
       "      <td>3350.0</td>\n",
       "      <td>3270.0</td>\n",
       "      <td>3330.0</td>\n",
       "      <td>150800</td>\n",
       "      <td>1.0</td>\n",
       "      <td>NaN</td>\n",
       "      <td>False</td>\n",
       "      <td>0.003026</td>\n",
       "    </tr>\n",
       "  </tbody>\n",
       "</table>\n",
       "</div>"
      ],
      "text/plain": [
       "           RowId       Date  SecuritiesCode    Open    High     Low   Close  \\\n",
       "0  20170104_1301 2017-01-04            1301  2734.0  2755.0  2730.0  2742.0   \n",
       "1  20170104_1332 2017-01-04            1332   568.0   576.0   563.0   571.0   \n",
       "2  20170104_1333 2017-01-04            1333  3150.0  3210.0  3140.0  3210.0   \n",
       "3  20170104_1376 2017-01-04            1376  1510.0  1550.0  1510.0  1550.0   \n",
       "4  20170104_1377 2017-01-04            1377  3270.0  3350.0  3270.0  3330.0   \n",
       "\n",
       "    Volume  AdjustmentFactor  ExpectedDividend  SupervisionFlag    Target  \n",
       "0    31400               1.0               NaN            False  0.000730  \n",
       "1  2798500               1.0               NaN            False  0.012324  \n",
       "2   270800               1.0               NaN            False  0.006154  \n",
       "3    11300               1.0               NaN            False  0.011053  \n",
       "4   150800               1.0               NaN            False  0.003026  "
      ]
     },
     "execution_count": 3,
     "metadata": {},
     "output_type": "execute_result"
    }
   ],
   "source": [
    "stock_price=pd.read_csv(\"/kaggle/input/jpx-tokyo-stock-exchange-prediction/train_files/stock_prices.csv\", parse_dates=['Date'])\n",
    "stock_price.head()"
   ]
  },
  {
   "cell_type": "code",
   "execution_count": 4,
   "id": "34cdb21a",
   "metadata": {
    "execution": {
     "iopub.execute_input": "2022-07-01T09:17:11.391867Z",
     "iopub.status.busy": "2022-07-01T09:17:11.391028Z",
     "iopub.status.idle": "2022-07-01T09:17:11.396251Z",
     "shell.execute_reply": "2022-07-01T09:17:11.395181Z"
    },
    "papermill": {
     "duration": 0.015537,
     "end_time": "2022-07-01T09:17:11.398700",
     "exception": false,
     "start_time": "2022-07-01T09:17:11.383163",
     "status": "completed"
    },
    "tags": []
   },
   "outputs": [],
   "source": [
    "# Plot line charts\n",
    "# df_plot = stock_price[['Date', 'Open', 'High', 'Low', 'Close', 'Volume', 'Target']].copy()\n",
    "# df_plot = df_plot.set_index('Date')\n",
    "\n",
    "# ncols = 2\n",
    "# nrows = int(round(df_plot.shape[1] / ncols, 0))\n",
    "\n",
    "# fig, ax = plt.subplots(nrows=nrows, ncols=ncols, sharex=True, figsize=(14, 7))\n",
    "# for i, ax in enumerate(fig.axes):\n",
    "#         sns.lineplot(data = df_plot.iloc[:, i], ax=ax)\n",
    "#         ax.tick_params(axis=\"x\", rotation=30, labelsize=10, length=0)\n",
    "#         ax.xaxis.set_major_locator(mdates.AutoDateLocator())\n",
    "# fig.tight_layout()\n",
    "# plt.show()"
   ]
  },
  {
   "cell_type": "code",
   "execution_count": 5,
   "id": "927de423",
   "metadata": {
    "execution": {
     "iopub.execute_input": "2022-07-01T09:17:11.414860Z",
     "iopub.status.busy": "2022-07-01T09:17:11.414132Z",
     "iopub.status.idle": "2022-07-01T09:17:11.418712Z",
     "shell.execute_reply": "2022-07-01T09:17:11.417766Z"
    },
    "papermill": {
     "duration": 0.015338,
     "end_time": "2022-07-01T09:17:11.420886",
     "exception": false,
     "start_time": "2022-07-01T09:17:11.405548",
     "status": "completed"
    },
    "tags": []
   },
   "outputs": [],
   "source": [
    "#Data Distribution\n",
    "# ncols = 2\n",
    "# nrows = int(round(df_plot.shape[1] / ncols, 0))\n",
    "\n",
    "# fig, axes = plt.subplots(nrows=nrows, ncols=ncols, sharex=True, figsize=(14, 7))\n",
    "# for ax, feature in zip(axes.flat, df_plot.columns):\n",
    "#     sns.histplot(df_plot[feature] , color=\"skyblue\", ax=ax)\n",
    "# fig.tight_layout()\n",
    "# plt.show()"
   ]
  },
  {
   "cell_type": "code",
   "execution_count": 6,
   "id": "962eef69",
   "metadata": {
    "execution": {
     "iopub.execute_input": "2022-07-01T09:17:11.436552Z",
     "iopub.status.busy": "2022-07-01T09:17:11.436135Z",
     "iopub.status.idle": "2022-07-01T09:17:11.733779Z",
     "shell.execute_reply": "2022-07-01T09:17:11.732651Z"
    },
    "papermill": {
     "duration": 0.308298,
     "end_time": "2022-07-01T09:17:11.736283",
     "exception": false,
     "start_time": "2022-07-01T09:17:11.427985",
     "status": "completed"
    },
    "tags": []
   },
   "outputs": [
    {
     "data": {
      "text/plain": [
       "RowId                     0\n",
       "Date                      0\n",
       "SecuritiesCode            0\n",
       "Open                   7608\n",
       "High                   7608\n",
       "Low                    7608\n",
       "Close                  7608\n",
       "Volume                    0\n",
       "AdjustmentFactor          0\n",
       "ExpectedDividend    2313666\n",
       "SupervisionFlag           0\n",
       "Target                  238\n",
       "dtype: int64"
      ]
     },
     "execution_count": 6,
     "metadata": {},
     "output_type": "execute_result"
    }
   ],
   "source": [
    "#Check for missing data\n",
    "print('No missing data') if sum(stock_price.isna().sum()) == 0 else stock_price.isna().sum()"
   ]
  },
  {
   "cell_type": "code",
   "execution_count": 7,
   "id": "040e88d8",
   "metadata": {
    "execution": {
     "iopub.execute_input": "2022-07-01T09:17:11.752281Z",
     "iopub.status.busy": "2022-07-01T09:17:11.751581Z",
     "iopub.status.idle": "2022-07-01T09:17:11.755818Z",
     "shell.execute_reply": "2022-07-01T09:17:11.754864Z"
    },
    "papermill": {
     "duration": 0.014685,
     "end_time": "2022-07-01T09:17:11.758003",
     "exception": false,
     "start_time": "2022-07-01T09:17:11.743318",
     "status": "completed"
    },
    "tags": []
   },
   "outputs": [],
   "source": [
    "#Visuals for Missing Data\n",
    "# df_no_prices = stock_price[stock_price['Close'].isna()]\n",
    "\n",
    "# no_prices_per_date = df_no_prices['Date'].value_counts().sort_index()\n",
    "# all_dates = sorted(stock_price['Date'].unique())\n",
    "# no_prices_per_date = no_prices_per_date.reindex(all_dates, fill_value=0)"
   ]
  },
  {
   "cell_type": "code",
   "execution_count": 8,
   "id": "1b0106d5",
   "metadata": {
    "execution": {
     "iopub.execute_input": "2022-07-01T09:17:11.773760Z",
     "iopub.status.busy": "2022-07-01T09:17:11.773338Z",
     "iopub.status.idle": "2022-07-01T09:17:14.083417Z",
     "shell.execute_reply": "2022-07-01T09:17:14.082334Z"
    },
    "papermill": {
     "duration": 2.321045,
     "end_time": "2022-07-01T09:17:14.086027",
     "exception": false,
     "start_time": "2022-07-01T09:17:11.764982",
     "status": "completed"
    },
    "tags": []
   },
   "outputs": [
    {
     "name": "stderr",
     "output_type": "stream",
     "text": [
      "/opt/conda/lib/python3.7/site-packages/geopandas/_compat.py:115: UserWarning:\n",
      "\n",
      "The Shapely GEOS version (3.9.1-CAPI-1.14.2) is incompatible with the GEOS version PyGEOS was compiled with (3.10.1-CAPI-1.16.0). Conversions between both will be slow.\n",
      "\n"
     ]
    }
   ],
   "source": [
    "import plotly.express as px\n",
    "import plotly.graph_objects as go\n",
    "from plotly.subplots import make_subplots\n",
    "from plotly.offline import init_notebook_mode\n",
    "import plotly.figure_factory as ff"
   ]
  },
  {
   "cell_type": "code",
   "execution_count": 9,
   "id": "bf7facf1",
   "metadata": {
    "execution": {
     "iopub.execute_input": "2022-07-01T09:17:14.101500Z",
     "iopub.status.busy": "2022-07-01T09:17:14.101101Z",
     "iopub.status.idle": "2022-07-01T09:17:14.105991Z",
     "shell.execute_reply": "2022-07-01T09:17:14.104898Z"
    },
    "papermill": {
     "duration": 0.015045,
     "end_time": "2022-07-01T09:17:14.108042",
     "exception": false,
     "start_time": "2022-07-01T09:17:14.092997",
     "status": "completed"
    },
    "tags": []
   },
   "outputs": [],
   "source": [
    "# fig = go.Figure()\n",
    "# fig.add_trace(go.Scatter(x=no_prices_per_date.index, \n",
    "#                          y=no_prices_per_date, \n",
    "#                          mode='lines'))\n",
    "\n",
    "# fig.update_layout(\n",
    "#     title=f\"Stocks without Prices per Date\",\n",
    "#     xaxis_title=\"Date\",\n",
    "#     yaxis_title=\"Stock Count\",\n",
    "# )\n",
    "\n",
    "# fig.show()"
   ]
  },
  {
   "cell_type": "code",
   "execution_count": 10,
   "id": "2aae2f59",
   "metadata": {
    "execution": {
     "iopub.execute_input": "2022-07-01T09:17:14.123832Z",
     "iopub.status.busy": "2022-07-01T09:17:14.123490Z",
     "iopub.status.idle": "2022-07-01T09:17:14.152882Z",
     "shell.execute_reply": "2022-07-01T09:17:14.151928Z"
    },
    "papermill": {
     "duration": 0.040455,
     "end_time": "2022-07-01T09:17:14.155236",
     "exception": false,
     "start_time": "2022-07-01T09:17:14.114781",
     "status": "completed"
    },
    "tags": []
   },
   "outputs": [],
   "source": [
    "#Selecting 3 Secuities to check each of their individual Performances\n",
    "prices_1301 = stock_price.loc[(stock_price['SecuritiesCode'].isin([1301]))]\n",
    "prices_7282 = stock_price.loc[(stock_price['SecuritiesCode'].isin([7282]))]\n",
    "prices_7414 = stock_price.loc[(stock_price['SecuritiesCode'].isin([7414]))]\n",
    "\n",
    "def plotMovingAverage(series, window, scale=1.96):\n",
    "\n",
    "    rolling_mean = series.rolling(window=window).mean()\n",
    "\n",
    "    plt.figure(figsize=(15,5))\n",
    "    plt.title(\"Moving average\\n window size = {}\".format(window))\n",
    "    plt.plot(rolling_mean, \"g\", label=\"Rolling mean trend\")\n",
    "\n",
    "    plt.plot(series[window:], label=\"Actual values\")\n",
    "    plt.legend(loc=\"upper left\")\n",
    "    plt.grid(True)"
   ]
  },
  {
   "cell_type": "code",
   "execution_count": 11,
   "id": "603a283e",
   "metadata": {
    "execution": {
     "iopub.execute_input": "2022-07-01T09:17:14.170829Z",
     "iopub.status.busy": "2022-07-01T09:17:14.170468Z",
     "iopub.status.idle": "2022-07-01T09:17:14.360842Z",
     "shell.execute_reply": "2022-07-01T09:17:14.358334Z"
    },
    "papermill": {
     "duration": 0.201026,
     "end_time": "2022-07-01T09:17:14.363185",
     "exception": false,
     "start_time": "2022-07-01T09:17:14.162159",
     "status": "completed"
    },
    "tags": []
   },
   "outputs": [
    {
     "data": {
      "image/png": "[encoded data removed]",
      "text/plain": [
       "<Figure size 1080x360 with 1 Axes>"
      ]
     },
     "metadata": {
      "needs_background": "light"
     },
     "output_type": "display_data"
    }
   ],
   "source": [
    "plotMovingAverage(prices_1301['Close'], 20)"
   ]
  },
  {
   "cell_type": "code",
   "execution_count": 12,
   "id": "7acf3ccb",
   "metadata": {
    "execution": {
     "iopub.execute_input": "2022-07-01T09:17:14.380800Z",
     "iopub.status.busy": "2022-07-01T09:17:14.379837Z",
     "iopub.status.idle": "2022-07-01T09:17:14.689935Z",
     "shell.execute_reply": "2022-07-01T09:17:14.689031Z"
    },
    "papermill": {
     "duration": 0.32114,
     "end_time": "2022-07-01T09:17:14.692138",
     "exception": false,
     "start_time": "2022-07-01T09:17:14.370998",
     "status": "completed"
    },
    "tags": []
   },
   "outputs": [
    {
     "data": {
      "image/png": "[encoded data removed]",
      "text/plain": [
       "<Figure size 1080x360 with 1 Axes>"
      ]
     },
     "metadata": {
      "needs_background": "light"
     },
     "output_type": "display_data"
    }
   ],
   "source": [
    "plotMovingAverage(prices_7282['Close'], 20)"
   ]
  },
  {
   "cell_type": "code",
   "execution_count": 13,
   "id": "f12f497c",
   "metadata": {
    "execution": {
     "iopub.execute_input": "2022-07-01T09:17:14.712014Z",
     "iopub.status.busy": "2022-07-01T09:17:14.711623Z",
     "iopub.status.idle": "2022-07-01T09:17:14.866812Z",
     "shell.execute_reply": "2022-07-01T09:17:14.865666Z"
    },
    "papermill": {
     "duration": 0.167949,
     "end_time": "2022-07-01T09:17:14.869182",
     "exception": false,
     "start_time": "2022-07-01T09:17:14.701233",
     "status": "completed"
    },
    "tags": []
   },
   "outputs": [
    {
     "data": {
      "image/png": "[encoded data removed]",
      "text/plain": [
       "<Figure size 1080x360 with 1 Axes>"
      ]
     },
     "metadata": {
      "needs_background": "light"
     },
     "output_type": "display_data"
    }
   ],
   "source": [
    "plotMovingAverage(prices_7414['Close'], 20)"
   ]
  },
  {
   "cell_type": "code",
   "execution_count": 14,
   "id": "450943e2",
   "metadata": {
    "execution": {
     "iopub.execute_input": "2022-07-01T09:17:14.891277Z",
     "iopub.status.busy": "2022-07-01T09:17:14.890896Z",
     "iopub.status.idle": "2022-07-01T09:17:17.281882Z",
     "shell.execute_reply": "2022-07-01T09:17:17.280806Z"
    },
    "papermill": {
     "duration": 2.404908,
     "end_time": "2022-07-01T09:17:17.284150",
     "exception": false,
     "start_time": "2022-07-01T09:17:14.879242",
     "status": "completed"
    },
    "tags": []
   },
   "outputs": [
    {
     "data": {
      "text/plain": [
       "RowId                     0\n",
       "Date                      0\n",
       "SecuritiesCode            0\n",
       "Open                      0\n",
       "High                      0\n",
       "Low                       0\n",
       "Close                     0\n",
       "Volume                    0\n",
       "AdjustmentFactor          0\n",
       "ExpectedDividend    2313666\n",
       "SupervisionFlag           0\n",
       "Target                  238\n",
       "dtype: int64"
      ]
     },
     "execution_count": 14,
     "metadata": {},
     "output_type": "execute_result"
    }
   ],
   "source": [
    "# We will interpolate data for Close as we would need it for feature generation\n",
    "stock_price = stock_price.assign(InterpolateOpen=stock_price.Open.interpolate(method='linear'))\n",
    "stock_price = stock_price.assign(InterpolateHigh=stock_price.High.interpolate(method='linear'))\n",
    "stock_price = stock_price.assign(InterpolateLow=stock_price.Low.interpolate(method='linear'))\n",
    "stock_price = stock_price.assign(InterpolateClose=stock_price.Close.interpolate(method='linear'))\n",
    "# stock_price = stock_price.assign(InterpolateTarget=stock_price.Target.interpolate(method='linear'))\n",
    "\n",
    "stock_price.loc[stock_price['Open'].isnull(),'Open'] = stock_price['InterpolateOpen']\n",
    "stock_price.loc[stock_price['High'].isnull(),'High'] = stock_price['InterpolateHigh']\n",
    "stock_price.loc[stock_price['Low'].isnull(),'Low'] = stock_price['InterpolateLow']\n",
    "stock_price.loc[stock_price['Close'].isnull(),'Close'] = stock_price['InterpolateClose']\n",
    "# stock_price.loc[stock_price['Target'].isnull(),'Target'] = stock_price['InterpolateTarget']\n",
    "\n",
    "stock_price = stock_price.drop('InterpolateOpen', axis = 1)\n",
    "stock_price = stock_price.drop('InterpolateHigh', axis = 1)\n",
    "stock_price = stock_price.drop('InterpolateLow', axis = 1)\n",
    "stock_price = stock_price.drop('InterpolateClose', axis = 1)\n",
    "# stock_price = stock_price.drop('InterpolateTarget', axis = 1)\n",
    "print('No missing data') if sum(stock_price.isna().sum()) == 0 else stock_price.isna().sum()"
   ]
  },
  {
   "cell_type": "code",
   "execution_count": 15,
   "id": "900b0c24",
   "metadata": {
    "execution": {
     "iopub.execute_input": "2022-07-01T09:17:17.306108Z",
     "iopub.status.busy": "2022-07-01T09:17:17.305390Z",
     "iopub.status.idle": "2022-07-01T09:17:17.315513Z",
     "shell.execute_reply": "2022-07-01T09:17:17.314697Z"
    },
    "papermill": {
     "duration": 0.023342,
     "end_time": "2022-07-01T09:17:17.317432",
     "exception": false,
     "start_time": "2022-07-01T09:17:17.294090",
     "status": "completed"
    },
    "tags": []
   },
   "outputs": [],
   "source": [
    "from decimal import ROUND_HALF_UP, Decimal\n",
    "from tqdm import tqdm\n",
    "\n",
    "def adjust_price(price):\n",
    "    \"\"\"\n",
    "    Args:\n",
    "        price (pd.DataFrame)  : pd.DataFrame include stock_price\n",
    "    Returns:\n",
    "        price DataFrame (pd.DataFrame): stock_price with generated AdjustedClose\n",
    "    \"\"\"\n",
    "    # transform Date column into datetime\n",
    "    price.loc[: ,\"Date\"] = pd.to_datetime(price.loc[: ,\"Date\"], format=\"%Y-%m-%d\")\n",
    "\n",
    "    def generate_adjusted_close(df):\n",
    "        \"\"\"\n",
    "        Args:\n",
    "            df (pd.DataFrame)  : stock_price for a single SecuritiesCode\n",
    "        Returns:\n",
    "            df (pd.DataFrame): stock_price with AdjustedClose for a single SecuritiesCode\n",
    "        \"\"\"\n",
    "        # sort data to generate CumulativeAdjustmentFactor\n",
    "        df = df.sort_values(\"Date\", ascending=False)\n",
    "        # generate CumulativeAdjustmentFactor\n",
    "        df.loc[:, \"CumulativeAdjustmentFactor\"] = df[\"AdjustmentFactor\"].cumprod()\n",
    "        # generate AdjustedClose\n",
    "        df.loc[:, \"AdjustedClose\"] = (\n",
    "            df[\"CumulativeAdjustmentFactor\"] * df[\"Close\"]\n",
    "        ).map(lambda x: float(\n",
    "            Decimal(str(x)).quantize(Decimal('0.1'), rounding=ROUND_HALF_UP)\n",
    "        ))\n",
    "        # reverse order\n",
    "        df = df.sort_values(\"Date\")\n",
    "        # to fill AdjustedClose, replace 0 into np.nan\n",
    "        df.loc[df[\"AdjustedClose\"] == 0, \"AdjustedClose\"] = np.nan\n",
    "        # forward fill AdjustedClose\n",
    "        df.loc[:, \"AdjustedClose\"] = df.loc[:, \"AdjustedClose\"].ffill()\n",
    "        return df\n",
    "\n",
    "    # generate AdjustedClose\n",
    "    price = price.sort_values([\"SecuritiesCode\", \"Date\"])\n",
    "    price = price.groupby(\"SecuritiesCode\").apply(generate_adjusted_close).reset_index(drop=True)\n",
    "\n",
    "    # price.set_index(\"Date\", inplace=True)\n",
    "    return price"
   ]
  },
  {
   "cell_type": "code",
   "execution_count": 16,
   "id": "21a356b9",
   "metadata": {
    "execution": {
     "iopub.execute_input": "2022-07-01T09:17:17.339848Z",
     "iopub.status.busy": "2022-07-01T09:17:17.339229Z",
     "iopub.status.idle": "2022-07-01T09:17:34.296893Z",
     "shell.execute_reply": "2022-07-01T09:17:34.295979Z"
    },
    "papermill": {
     "duration": 16.971958,
     "end_time": "2022-07-01T09:17:34.299244",
     "exception": false,
     "start_time": "2022-07-01T09:17:17.327286",
     "status": "completed"
    },
    "tags": []
   },
   "outputs": [],
   "source": [
    "# generate AdjustedClose\n",
    "stock_price = adjust_price(stock_price)"
   ]
  },
  {
   "cell_type": "code",
   "execution_count": 17,
   "id": "7b032672",
   "metadata": {
    "execution": {
     "iopub.execute_input": "2022-07-01T09:17:34.321139Z",
     "iopub.status.busy": "2022-07-01T09:17:34.320748Z",
     "iopub.status.idle": "2022-07-01T09:17:34.479949Z",
     "shell.execute_reply": "2022-07-01T09:17:34.478782Z"
    },
    "papermill": {
     "duration": 0.17338,
     "end_time": "2022-07-01T09:17:34.482594",
     "exception": false,
     "start_time": "2022-07-01T09:17:34.309214",
     "status": "completed"
    },
    "tags": []
   },
   "outputs": [],
   "source": [
    "from sklearn.preprocessing import StandardScaler\n",
    "stdsc = StandardScaler()\n",
    "\n",
    "def computeRSI (data, time_window):\n",
    "    diff = data.diff(1).dropna()        # diff in one field(one day)\n",
    "\n",
    "    #this preservers dimensions off diff values\n",
    "    up_chg = 0 * diff\n",
    "    down_chg = 0 * diff\n",
    "    \n",
    "    # up change is equal to the positive difference, otherwise equal to zero\n",
    "    up_chg[diff > 0] = diff[ diff>0 ]\n",
    "    \n",
    "    # down change is equal to negative deifference, otherwise equal to zero\n",
    "    down_chg[diff < 0] = diff[ diff < 0 ]\n",
    "    \n",
    "    # check pandas documentation for ewm\n",
    "    # https://pandas.pydata.org/pandas-docs/stable/reference/api/pandas.DataFrame.ewm.html\n",
    "    # values are related to exponential decay\n",
    "    # we set com=time_window-1 so we get decay alpha=1/time_window\n",
    "    up_chg_avg   = up_chg.ewm(com=time_window-1 , min_periods=time_window).mean()\n",
    "    down_chg_avg = down_chg.ewm(com=time_window-1 , min_periods=time_window).mean()\n",
    "    \n",
    "    rs = abs(up_chg_avg/down_chg_avg)\n",
    "    rsi = 100 - 100/(1+rs)\n",
    "    return rsi\n",
    "\n",
    "#Features Return % & Market Volatality\n",
    "def get_features_for_predict(price, code):\n",
    "    \"\"\"\n",
    "    Args:\n",
    "        price (pd.DataFrame)  : pd.DataFrame include stock_price\n",
    "        code (int)  : A local code for a listed company\n",
    "    Returns:\n",
    "        feature DataFrame (pd.DataFrame)\n",
    "    \"\"\"\n",
    "    close_col = \"AdjustedClose\"\n",
    "    feats = price.loc[price[\"SecuritiesCode\"] == code, ['Date', 'SecuritiesCode', 'Open', 'High', 'Low', close_col, 'Target']].copy()\n",
    "\n",
    "    # calculate return 5 days using AdjustedClose\n",
    "    feats[\"return_5\"] = feats[close_col].pct_change(5)\n",
    "    # calculate last 10 days return using AdjustedClose\n",
    "    feats[\"return_10\"] = feats[close_col].pct_change(10)\n",
    "    # calculate last 20 days return using AdjustedClose\n",
    "    feats[\"return_20\"] = feats[close_col].pct_change(20)\n",
    "    feats[\"return_30\"] = feats[close_col].pct_change(30)\n",
    "    # calculate last 50 days return using AdjustedClose\n",
    "    feats[\"return_50\"] = feats[close_col].pct_change(50)\n",
    "\n",
    "\n",
    "    # calculate historical volatility using AdjustedClose\n",
    "    feats[\"volatility_5\"] = (\n",
    "        np.log(feats[close_col]).diff().rolling(5).std()\n",
    "    )\n",
    "    feats[\"volatility_10\"] = (\n",
    "        np.log(feats[close_col]).diff().rolling(10).std()\n",
    "    )\n",
    "    feats[\"volatility_20\"] = (\n",
    "        np.log(feats[close_col]).diff().rolling(20).std()\n",
    "    )\n",
    "    feats[\"volatility_30\"] = (\n",
    "        np.log(feats[close_col]).diff().rolling(30).std()\n",
    "    )\n",
    "    feats[\"volatility_50\"] = (\n",
    "        np.log(feats[close_col]).diff().rolling(50).std()\n",
    "    )\n",
    "    # calculate last bollinger band using AdjustedClose\n",
    "    feats[\"bollinger_up\"] = (\n",
    "        (((feats[close_col]).rolling(20).mean()) + ((feats[close_col]).rolling(20).std()))*2\n",
    "    )\n",
    "    \n",
    "    # calculate last bollinger band using AdjustedClose\n",
    "    feats[\"bollinger_down\"] = (\n",
    "        (((feats[close_col]).rolling(20).mean()) - ((feats[close_col]).rolling(20).std()))*2\n",
    "    )\n",
    "    \n",
    "    # calculate RSI\n",
    "    feats[\"rsi\"] = computeRSI(feats[close_col], 14)\n",
    "    \n",
    "    # Exponential Moving Averages (EMAS) - different periods\n",
    "    feats['EMA5'] = feats[close_col].ewm(span=5, adjust=False).mean()\n",
    "    feats['EMA10'] = feats[close_col].ewm(span=10, adjust=False).mean()\n",
    "    feats['EMA20'] = feats[close_col].ewm(span=20, adjust=False).mean()\n",
    "    feats['EMA30'] = feats[close_col].ewm(span=30, adjust=False).mean()\n",
    "    feats['EMA50'] = feats[close_col].ewm(span=50, adjust=False).mean()\n",
    "    \n",
    "    \n",
    "    # filling data for nan and inf\n",
    "    feats = feats.fillna(0)\n",
    "    feats = feats.replace([np.inf, -np.inf], 0)\n",
    "    # drop AdjustedClose column\n",
    "    # feats = feats.drop([close_col], axis=1)\n",
    "    feat_col = [\n",
    "    'Open',\n",
    "    'High',\n",
    "    'Low',\n",
    "    'AdjustedClose',\n",
    "#     'return_5',\n",
    "#     'return_10',\n",
    "#     'return_20',\n",
    "#     'return_30',\n",
    "#     'return_50',\n",
    "#     'volatility_5',\n",
    "#     'volatility_10',\n",
    "#     'volatility_20',\n",
    "#     'volatility_30',\n",
    "#     'volatility_50',\n",
    "    'bollinger_up',\n",
    "    'bollinger_down',\n",
    "    'rsi',\n",
    "    'EMA5',\n",
    "    'EMA10',\n",
    "    'EMA20',\n",
    "    'EMA30',\n",
    "    'EMA50'\n",
    "]\n",
    "    feats[feat_col] = stdsc.fit_transform(feats[feat_col])\n",
    "       \n",
    "    return feats"
   ]
  },
  {
   "cell_type": "code",
   "execution_count": 18,
   "id": "10ccad58",
   "metadata": {
    "execution": {
     "iopub.execute_input": "2022-07-01T09:17:34.505094Z",
     "iopub.status.busy": "2022-07-01T09:17:34.504707Z",
     "iopub.status.idle": "2022-07-01T09:18:41.861501Z",
     "shell.execute_reply": "2022-07-01T09:18:41.860563Z"
    },
    "papermill": {
     "duration": 67.371258,
     "end_time": "2022-07-01T09:18:41.864077",
     "exception": false,
     "start_time": "2022-07-01T09:17:34.492819",
     "status": "completed"
    },
    "tags": []
   },
   "outputs": [
    {
     "name": "stderr",
     "output_type": "stream",
     "text": [
      "100%|██████████| 2000/2000 [01:06<00:00, 29.99it/s]\n"
     ]
    }
   ],
   "source": [
    "# fetch prediction target SecuritiesCodes\n",
    "codes = sorted(stock_price[\"SecuritiesCode\"].unique())\n",
    "len(codes)\n",
    "\n",
    "# generate feature\n",
    "buff = []\n",
    "for code in tqdm(codes):\n",
    "    feat = get_features_for_predict(stock_price, code)\n",
    "    buff.append(feat)\n",
    "feature = pd.concat(buff)"
   ]
  },
  {
   "cell_type": "code",
   "execution_count": 19,
   "id": "2cf5c02b",
   "metadata": {
    "execution": {
     "iopub.execute_input": "2022-07-01T09:18:41.935520Z",
     "iopub.status.busy": "2022-07-01T09:18:41.935112Z",
     "iopub.status.idle": "2022-07-01T09:18:41.960616Z",
     "shell.execute_reply": "2022-07-01T09:18:41.959517Z"
    },
    "papermill": {
     "duration": 0.063771,
     "end_time": "2022-07-01T09:18:41.962855",
     "exception": false,
     "start_time": "2022-07-01T09:18:41.899084",
     "status": "completed"
    },
    "tags": []
   },
   "outputs": [
    {
     "data": {
      "text/html": [
       "<div>\n",
       "<style scoped>\n",
       "    .dataframe tbody tr th:only-of-type {\n",
       "        vertical-align: middle;\n",
       "    }\n",
       "\n",
       "    .dataframe tbody tr th {\n",
       "        vertical-align: top;\n",
       "    }\n",
       "\n",
       "    .dataframe thead th {\n",
       "        text-align: right;\n",
       "    }\n",
       "</style>\n",
       "<table border=\"1\" class=\"dataframe\">\n",
       "  <thead>\n",
       "    <tr style=\"text-align: right;\">\n",
       "      <th></th>\n",
       "      <th>Date</th>\n",
       "      <th>SecuritiesCode</th>\n",
       "      <th>Open</th>\n",
       "      <th>High</th>\n",
       "      <th>Low</th>\n",
       "      <th>AdjustedClose</th>\n",
       "      <th>Target</th>\n",
       "      <th>return_5</th>\n",
       "      <th>return_10</th>\n",
       "      <th>return_20</th>\n",
       "      <th>...</th>\n",
       "      <th>volatility_30</th>\n",
       "      <th>volatility_50</th>\n",
       "      <th>bollinger_up</th>\n",
       "      <th>bollinger_down</th>\n",
       "      <th>rsi</th>\n",
       "      <th>EMA5</th>\n",
       "      <th>EMA10</th>\n",
       "      <th>EMA20</th>\n",
       "      <th>EMA30</th>\n",
       "      <th>EMA50</th>\n",
       "    </tr>\n",
       "  </thead>\n",
       "  <tbody>\n",
       "    <tr>\n",
       "      <th>0</th>\n",
       "      <td>2017-01-04</td>\n",
       "      <td>1301</td>\n",
       "      <td>-0.895044</td>\n",
       "      <td>-0.889685</td>\n",
       "      <td>-0.848417</td>\n",
       "      <td>-0.872001</td>\n",
       "      <td>0.000730</td>\n",
       "      <td>0.0</td>\n",
       "      <td>0.0</td>\n",
       "      <td>0.0</td>\n",
       "      <td>...</td>\n",
       "      <td>0.0</td>\n",
       "      <td>0.0</td>\n",
       "      <td>-5.618867</td>\n",
       "      <td>-5.593626</td>\n",
       "      <td>-3.868126</td>\n",
       "      <td>-0.882590</td>\n",
       "      <td>-0.887009</td>\n",
       "      <td>-0.893482</td>\n",
       "      <td>-0.899057</td>\n",
       "      <td>-0.910583</td>\n",
       "    </tr>\n",
       "    <tr>\n",
       "      <th>1</th>\n",
       "      <td>2017-01-05</td>\n",
       "      <td>1301</td>\n",
       "      <td>-0.871801</td>\n",
       "      <td>-0.910101</td>\n",
       "      <td>-0.835381</td>\n",
       "      <td>-0.882312</td>\n",
       "      <td>0.002920</td>\n",
       "      <td>0.0</td>\n",
       "      <td>0.0</td>\n",
       "      <td>0.0</td>\n",
       "      <td>...</td>\n",
       "      <td>0.0</td>\n",
       "      <td>0.0</td>\n",
       "      <td>-5.618867</td>\n",
       "      <td>-5.593626</td>\n",
       "      <td>-3.868126</td>\n",
       "      <td>-0.886073</td>\n",
       "      <td>-0.888921</td>\n",
       "      <td>-0.894494</td>\n",
       "      <td>-0.899750</td>\n",
       "      <td>-0.911013</td>\n",
       "    </tr>\n",
       "    <tr>\n",
       "      <th>2</th>\n",
       "      <td>2017-01-06</td>\n",
       "      <td>1301</td>\n",
       "      <td>-0.895044</td>\n",
       "      <td>-0.917757</td>\n",
       "      <td>-0.874488</td>\n",
       "      <td>-0.877156</td>\n",
       "      <td>-0.001092</td>\n",
       "      <td>0.0</td>\n",
       "      <td>0.0</td>\n",
       "      <td>0.0</td>\n",
       "      <td>...</td>\n",
       "      <td>0.0</td>\n",
       "      <td>0.0</td>\n",
       "      <td>-5.618867</td>\n",
       "      <td>-5.593626</td>\n",
       "      <td>-3.868126</td>\n",
       "      <td>-0.886653</td>\n",
       "      <td>-0.889529</td>\n",
       "      <td>-0.894904</td>\n",
       "      <td>-0.900051</td>\n",
       "      <td>-0.911211</td>\n",
       "    </tr>\n",
       "    <tr>\n",
       "      <th>3</th>\n",
       "      <td>2017-01-10</td>\n",
       "      <td>1301</td>\n",
       "      <td>-0.866636</td>\n",
       "      <td>-0.892237</td>\n",
       "      <td>-0.835381</td>\n",
       "      <td>-0.856535</td>\n",
       "      <td>-0.005100</td>\n",
       "      <td>0.0</td>\n",
       "      <td>0.0</td>\n",
       "      <td>0.0</td>\n",
       "      <td>...</td>\n",
       "      <td>0.0</td>\n",
       "      <td>0.0</td>\n",
       "      <td>-5.618867</td>\n",
       "      <td>-5.593626</td>\n",
       "      <td>-3.868126</td>\n",
       "      <td>-0.880075</td>\n",
       "      <td>-0.886203</td>\n",
       "      <td>-0.893250</td>\n",
       "      <td>-0.898948</td>\n",
       "      <td>-0.910542</td>\n",
       "    </tr>\n",
       "    <tr>\n",
       "      <th>4</th>\n",
       "      <td>2017-01-11</td>\n",
       "      <td>1301</td>\n",
       "      <td>-0.858889</td>\n",
       "      <td>-0.897341</td>\n",
       "      <td>-0.830167</td>\n",
       "      <td>-0.864268</td>\n",
       "      <td>-0.003295</td>\n",
       "      <td>0.0</td>\n",
       "      <td>0.0</td>\n",
       "      <td>0.0</td>\n",
       "      <td>...</td>\n",
       "      <td>0.0</td>\n",
       "      <td>0.0</td>\n",
       "      <td>-5.618867</td>\n",
       "      <td>-5.593626</td>\n",
       "      <td>-3.868126</td>\n",
       "      <td>-0.878302</td>\n",
       "      <td>-0.884916</td>\n",
       "      <td>-0.892513</td>\n",
       "      <td>-0.898436</td>\n",
       "      <td>-0.910221</td>\n",
       "    </tr>\n",
       "  </tbody>\n",
       "</table>\n",
       "<p>5 rows × 25 columns</p>\n",
       "</div>"
      ],
      "text/plain": [
       "        Date  SecuritiesCode      Open      High       Low  AdjustedClose  \\\n",
       "0 2017-01-04            1301 -0.895044 -0.889685 -0.848417      -0.872001   \n",
       "1 2017-01-05            1301 -0.871801 -0.910101 -0.835381      -0.882312   \n",
       "2 2017-01-06            1301 -0.895044 -0.917757 -0.874488      -0.877156   \n",
       "3 2017-01-10            1301 -0.866636 -0.892237 -0.835381      -0.856535   \n",
       "4 2017-01-11            1301 -0.858889 -0.897341 -0.830167      -0.864268   \n",
       "\n",
       "     Target  return_5  return_10  return_20  ...  volatility_30  \\\n",
       "0  0.000730       0.0        0.0        0.0  ...            0.0   \n",
       "1  0.002920       0.0        0.0        0.0  ...            0.0   \n",
       "2 -0.001092       0.0        0.0        0.0  ...            0.0   \n",
       "3 -0.005100       0.0        0.0        0.0  ...            0.0   \n",
       "4 -0.003295       0.0        0.0        0.0  ...            0.0   \n",
       "\n",
       "   volatility_50  bollinger_up  bollinger_down       rsi      EMA5     EMA10  \\\n",
       "0            0.0     -5.618867       -5.593626 -3.868126 -0.882590 -0.887009   \n",
       "1            0.0     -5.618867       -5.593626 -3.868126 -0.886073 -0.888921   \n",
       "2            0.0     -5.618867       -5.593626 -3.868126 -0.886653 -0.889529   \n",
       "3            0.0     -5.618867       -5.593626 -3.868126 -0.880075 -0.886203   \n",
       "4            0.0     -5.618867       -5.593626 -3.868126 -0.878302 -0.884916   \n",
       "\n",
       "      EMA20     EMA30     EMA50  \n",
       "0 -0.893482 -0.899057 -0.910583  \n",
       "1 -0.894494 -0.899750 -0.911013  \n",
       "2 -0.894904 -0.900051 -0.911211  \n",
       "3 -0.893250 -0.898948 -0.910542  \n",
       "4 -0.892513 -0.898436 -0.910221  \n",
       "\n",
       "[5 rows x 25 columns]"
      ]
     },
     "execution_count": 19,
     "metadata": {},
     "output_type": "execute_result"
    }
   ],
   "source": [
    "feature.head()"
   ]
  },
  {
   "cell_type": "code",
   "execution_count": 20,
   "id": "cfb6d205",
   "metadata": {
    "execution": {
     "iopub.execute_input": "2022-07-01T09:18:42.036313Z",
     "iopub.status.busy": "2022-07-01T09:18:42.035914Z",
     "iopub.status.idle": "2022-07-01T09:18:44.372817Z",
     "shell.execute_reply": "2022-07-01T09:18:44.371785Z"
    },
    "papermill": {
     "duration": 2.376984,
     "end_time": "2022-07-01T09:18:44.375620",
     "exception": false,
     "start_time": "2022-07-01T09:18:41.998636",
     "status": "completed"
    },
    "tags": []
   },
   "outputs": [
    {
     "data": {
      "text/html": [
       "<style type='text/css'>\n",
       ".datatable table.frame { margin-bottom: 0; }\n",
       ".datatable table.frame thead { border-bottom: none; }\n",
       ".datatable table.frame tr.coltypes td {  color: #FFFFFF;  line-height: 6px;  padding: 0 0.5em;}\n",
       ".datatable .bool    { background: #DDDD99; }\n",
       ".datatable .object  { background: #565656; }\n",
       ".datatable .int     { background: #5D9E5D; }\n",
       ".datatable .float   { background: #4040CC; }\n",
       ".datatable .str     { background: #CC4040; }\n",
       ".datatable .time    { background: #40CC40; }\n",
       ".datatable .row_index {  background: var(--jp-border-color3);  border-right: 1px solid var(--jp-border-color0);  color: var(--jp-ui-font-color3);  font-size: 9px;}\n",
       ".datatable .frame tbody td { text-align: left; }\n",
       ".datatable .frame tr.coltypes .row_index {  background: var(--jp-border-color0);}\n",
       ".datatable th:nth-child(2) { padding-left: 12px; }\n",
       ".datatable .hellipsis {  color: var(--jp-cell-editor-border-color);}\n",
       ".datatable .vellipsis {  background: var(--jp-layout-color0);  color: var(--jp-cell-editor-border-color);}\n",
       ".datatable .na {  color: var(--jp-cell-editor-border-color);  font-size: 80%;}\n",
       ".datatable .sp {  opacity: 0.25;}\n",
       ".datatable .footer { font-size: 9px; }\n",
       ".datatable .frame_dimensions {  background: var(--jp-border-color3);  border-top: 1px solid var(--jp-border-color0);  color: var(--jp-ui-font-color3);  display: inline-block;  opacity: 0.6;  padding: 1px 10px 1px 5px;}\n",
       "</style>\n"
      ],
      "text/plain": [
       "<IPython.core.display.HTML object>"
      ]
     },
     "metadata": {},
     "output_type": "display_data"
    }
   ],
   "source": [
    "from sklearn.model_selection import TimeSeriesSplit\n",
    "from sklearn.metrics import mean_squared_error,mean_absolute_error\n",
    "from lightgbm import LGBMRegressor\n",
    "\n",
    "ts_fold = TimeSeriesSplit(n_splits=10, gap=10000)\n",
    "prices=feature.dropna().sort_values(['Date','SecuritiesCode'])\n",
    "y=prices['Target'].to_numpy()\n",
    "X=prices.drop(['Target'],axis=1)"
   ]
  },
  {
   "cell_type": "code",
   "execution_count": 21,
   "id": "92bdc37e",
   "metadata": {
    "execution": {
     "iopub.execute_input": "2022-07-01T09:18:44.447459Z",
     "iopub.status.busy": "2022-07-01T09:18:44.447092Z",
     "iopub.status.idle": "2022-07-01T09:18:44.456501Z",
     "shell.execute_reply": "2022-07-01T09:18:44.455476Z"
    },
    "papermill": {
     "duration": 0.048278,
     "end_time": "2022-07-01T09:18:44.459012",
     "exception": false,
     "start_time": "2022-07-01T09:18:44.410734",
     "status": "completed"
    },
    "tags": []
   },
   "outputs": [],
   "source": [
    "def calc_spread_return_sharpe(df: pd.DataFrame, portfolio_size: int = 200, toprank_weight_ratio: float = 2) -> float:\n",
    "    \"\"\"\n",
    "    Args:\n",
    "        df (pd.DataFrame): predicted results\n",
    "        portfolio_size (int): # of equities to buy/sell\n",
    "        toprank_weight_ratio (float): the relative weight of the most highly ranked stock compared to the least.\n",
    "    Returns:\n",
    "        (float): sharpe ratio\n",
    "    \"\"\"\n",
    "    def _calc_spread_return_per_day(df, portfolio_size, toprank_weight_ratio):\n",
    "        \"\"\"\n",
    "        Args:\n",
    "            df (pd.DataFrame): predicted results\n",
    "            portfolio_size (int): # of equities to buy/sell\n",
    "            toprank_weight_ratio (float): the relative weight of the most highly ranked stock compared to the least.\n",
    "        Returns:\n",
    "            (float): spread return\n",
    "        \"\"\"\n",
    "        assert df['Rank'].min() == 0\n",
    "        assert df['Rank'].max() == len(df['Rank']) - 1\n",
    "        weights = np.linspace(start=toprank_weight_ratio, stop=1, num=portfolio_size)\n",
    "        purchase = (df.sort_values(by='Rank')['Target'][:portfolio_size] * weights).sum() / weights.mean()\n",
    "        short = (df.sort_values(by='Rank', ascending=False)['Target'][:portfolio_size] * weights).sum() / weights.mean()\n",
    "        return purchase - short\n",
    "\n",
    "    buf = df.groupby('Date').apply(_calc_spread_return_per_day, portfolio_size, toprank_weight_ratio)\n",
    "    sharpe_ratio = buf.mean() / buf.std()\n",
    "    return sharpe_ratio"
   ]
  },
  {
   "cell_type": "code",
   "execution_count": 22,
   "id": "777609e2",
   "metadata": {
    "execution": {
     "iopub.execute_input": "2022-07-01T09:18:44.531337Z",
     "iopub.status.busy": "2022-07-01T09:18:44.530591Z",
     "iopub.status.idle": "2022-07-01T09:24:52.421284Z",
     "shell.execute_reply": "2022-07-01T09:24:52.420135Z"
    },
    "papermill": {
     "duration": 367.930508,
     "end_time": "2022-07-01T09:24:52.424351",
     "exception": false,
     "start_time": "2022-07-01T09:18:44.493843",
     "status": "completed"
    },
    "tags": []
   },
   "outputs": [
    {
     "name": "stdout",
     "output_type": "stream",
     "text": [
      "\n",
      "========================== Fold 1 ==========================\n",
      "Train Date range: 2017-01-04 00:00:00 to 2017-06-09 00:00:00\n",
      "Valid Date range: 2017-06-19 00:00:00 to 2017-12-01 00:00:00\n",
      "\n",
      "Train Shape: (202051, 22) (202051,), Valid Shape: (212048, 22) (212048,)\n"
     ]
    },
    {
     "name": "stderr",
     "output_type": "stream",
     "text": [
      "/opt/conda/lib/python3.7/site-packages/lightgbm/sklearn.py:736: UserWarning:\n",
      "\n",
      "'verbose' argument is deprecated and will be removed in a future release of LightGBM. Pass 'log_evaluation()' callback via 'callbacks' argument instead.\n",
      "\n"
     ]
    },
    {
     "name": "stdout",
     "output_type": "stream",
     "text": [
      "[300]\ttraining's l2: 0.000281154\ttraining's l1: 0.0111733\tvalid_1's l2: 0.000381937\tvalid_1's l1: 0.0123587\n",
      "Valid Sharpe: 0.6178037957926882, RMSE: 0.019628323864428712, MAE: 0.012441709406521924\n",
      "\n",
      "========================== Fold 2 ==========================\n",
      "Train Date range: 2017-01-04 00:00:00 to 2017-11-22 00:00:00\n",
      "Valid Date range: 2017-12-01 00:00:00 to 2018-05-18 00:00:00\n",
      "\n",
      "Train Shape: (414099, 22) (414099,), Valid Shape: (212048, 22) (212048,)\n"
     ]
    },
    {
     "name": "stderr",
     "output_type": "stream",
     "text": [
      "/opt/conda/lib/python3.7/site-packages/lightgbm/sklearn.py:736: UserWarning:\n",
      "\n",
      "'verbose' argument is deprecated and will be removed in a future release of LightGBM. Pass 'log_evaluation()' callback via 'callbacks' argument instead.\n",
      "\n"
     ]
    },
    {
     "name": "stdout",
     "output_type": "stream",
     "text": [
      "[300]\ttraining's l2: 0.000311659\ttraining's l1: 0.0115165\tvalid_1's l2: 0.000519792\tvalid_1's l1: 0.0147856\n",
      "Valid Sharpe: 0.7453260617169415, RMSE: 0.022853448005372746, MAE: 0.014837414288228313\n",
      "\n",
      "========================== Fold 3 ==========================\n",
      "Train Date range: 2017-01-04 00:00:00 to 2018-05-11 00:00:00\n",
      "Valid Date range: 2018-05-18 00:00:00 to 2018-10-26 00:00:00\n",
      "\n",
      "Train Shape: (626147, 22) (626147,), Valid Shape: (212048, 22) (212048,)\n"
     ]
    },
    {
     "name": "stderr",
     "output_type": "stream",
     "text": [
      "/opt/conda/lib/python3.7/site-packages/lightgbm/sklearn.py:736: UserWarning:\n",
      "\n",
      "'verbose' argument is deprecated and will be removed in a future release of LightGBM. Pass 'log_evaluation()' callback via 'callbacks' argument instead.\n",
      "\n"
     ]
    },
    {
     "name": "stdout",
     "output_type": "stream",
     "text": [
      "[300]\ttraining's l2: 0.00036725\ttraining's l1: 0.0124742\tvalid_1's l2: 0.000515999\tvalid_1's l1: 0.0154049\n",
      "Valid Sharpe: 0.40413925099708836, RMSE: 0.02276163997553317, MAE: 0.01544645658626269\n",
      "\n",
      "========================== Fold 4 ==========================\n",
      "Train Date range: 2017-01-04 00:00:00 to 2018-10-19 00:00:00\n",
      "Valid Date range: 2018-10-26 00:00:00 to 2019-04-11 00:00:00\n",
      "\n",
      "Train Shape: (838195, 22) (838195,), Valid Shape: (212048, 22) (212048,)\n"
     ]
    },
    {
     "name": "stderr",
     "output_type": "stream",
     "text": [
      "/opt/conda/lib/python3.7/site-packages/lightgbm/sklearn.py:736: UserWarning:\n",
      "\n",
      "'verbose' argument is deprecated and will be removed in a future release of LightGBM. Pass 'log_evaluation()' callback via 'callbacks' argument instead.\n",
      "\n"
     ]
    },
    {
     "name": "stdout",
     "output_type": "stream",
     "text": [
      "[300]\ttraining's l2: 0.000390327\ttraining's l1: 0.013002\tvalid_1's l2: 0.000668333\tvalid_1's l1: 0.0175499\n",
      "Valid Sharpe: 0.39086827185327594, RMSE: 0.025897814978619194, MAE: 0.01758988519528317\n",
      "\n",
      "========================== Fold 5 ==========================\n",
      "Train Date range: 2017-01-04 00:00:00 to 2019-04-04 00:00:00\n",
      "Valid Date range: 2019-04-11 00:00:00 to 2019-09-25 00:00:00\n",
      "\n",
      "Train Shape: (1050243, 22) (1050243,), Valid Shape: (212048, 22) (212048,)\n"
     ]
    },
    {
     "name": "stderr",
     "output_type": "stream",
     "text": [
      "/opt/conda/lib/python3.7/site-packages/lightgbm/sklearn.py:736: UserWarning:\n",
      "\n",
      "'verbose' argument is deprecated and will be removed in a future release of LightGBM. Pass 'log_evaluation()' callback via 'callbacks' argument instead.\n",
      "\n"
     ]
    },
    {
     "name": "stdout",
     "output_type": "stream",
     "text": [
      "[300]\ttraining's l2: 0.000442491\ttraining's l1: 0.0139113\tvalid_1's l2: 0.000466441\tvalid_1's l1: 0.0146945\n",
      "Valid Sharpe: 0.6811371568388674, RMSE: 0.021626429518816725, MAE: 0.014722304089004047\n",
      "\n",
      "========================== Fold 6 ==========================\n",
      "Train Date range: 2017-01-04 00:00:00 to 2019-09-17 00:00:00\n",
      "Valid Date range: 2019-09-25 00:00:00 to 2020-03-10 00:00:00\n",
      "\n",
      "Train Shape: (1262291, 22) (1262291,), Valid Shape: (212048, 22) (212048,)\n"
     ]
    },
    {
     "name": "stderr",
     "output_type": "stream",
     "text": [
      "/opt/conda/lib/python3.7/site-packages/lightgbm/sklearn.py:736: UserWarning:\n",
      "\n",
      "'verbose' argument is deprecated and will be removed in a future release of LightGBM. Pass 'log_evaluation()' callback via 'callbacks' argument instead.\n",
      "\n"
     ]
    },
    {
     "name": "stdout",
     "output_type": "stream",
     "text": [
      "[300]\ttraining's l2: 0.000445083\ttraining's l1: 0.0140203\tvalid_1's l2: 0.000559894\tvalid_1's l1: 0.0154669\n",
      "Valid Sharpe: 0.5280421515897622, RMSE: 0.023715103571429676, MAE: 0.015495613255239175\n",
      "\n",
      "========================== Fold 7 ==========================\n",
      "Train Date range: 2017-01-04 00:00:00 to 2020-03-02 00:00:00\n",
      "Valid Date range: 2020-03-10 00:00:00 to 2020-08-18 00:00:00\n",
      "\n",
      "Train Shape: (1474339, 22) (1474339,), Valid Shape: (212048, 22) (212048,)\n"
     ]
    },
    {
     "name": "stderr",
     "output_type": "stream",
     "text": [
      "/opt/conda/lib/python3.7/site-packages/lightgbm/sklearn.py:736: UserWarning:\n",
      "\n",
      "'verbose' argument is deprecated and will be removed in a future release of LightGBM. Pass 'log_evaluation()' callback via 'callbacks' argument instead.\n",
      "\n"
     ]
    },
    {
     "name": "stdout",
     "output_type": "stream",
     "text": [
      "[300]\ttraining's l2: 0.000446578\ttraining's l1: 0.0140427\tvalid_1's l2: 0.00110026\tvalid_1's l1: 0.0232009\n",
      "Valid Sharpe: 0.11110463691620834, RMSE: 0.033230550530394816, MAE: 0.02325099369281043\n",
      "\n",
      "========================== Fold 8 ==========================\n",
      "Train Date range: 2017-01-04 00:00:00 to 2020-08-11 00:00:00\n",
      "Valid Date range: 2020-08-18 00:00:00 to 2021-01-22 00:00:00\n",
      "\n",
      "Train Shape: (1686387, 22) (1686387,), Valid Shape: (212048, 22) (212048,)\n"
     ]
    },
    {
     "name": "stderr",
     "output_type": "stream",
     "text": [
      "/opt/conda/lib/python3.7/site-packages/lightgbm/sklearn.py:736: UserWarning:\n",
      "\n",
      "'verbose' argument is deprecated and will be removed in a future release of LightGBM. Pass 'log_evaluation()' callback via 'callbacks' argument instead.\n",
      "\n"
     ]
    },
    {
     "name": "stdout",
     "output_type": "stream",
     "text": [
      "[300]\ttraining's l2: 0.000516265\ttraining's l1: 0.0151172\tvalid_1's l2: 0.000556255\tvalid_1's l1: 0.0160434\n",
      "Valid Sharpe: 0.27762334868641697, RMSE: 0.023616756555618422, MAE: 0.016072339909246423\n",
      "\n",
      "========================== Fold 9 ==========================\n",
      "Train Date range: 2017-01-04 00:00:00 to 2021-01-15 00:00:00\n",
      "Valid Date range: 2021-01-22 00:00:00 to 2021-06-29 00:00:00\n",
      "\n",
      "Train Shape: (1898435, 22) (1898435,), Valid Shape: (212048, 22) (212048,)\n"
     ]
    },
    {
     "name": "stderr",
     "output_type": "stream",
     "text": [
      "/opt/conda/lib/python3.7/site-packages/lightgbm/sklearn.py:736: UserWarning:\n",
      "\n",
      "'verbose' argument is deprecated and will be removed in a future release of LightGBM. Pass 'log_evaluation()' callback via 'callbacks' argument instead.\n",
      "\n"
     ]
    },
    {
     "name": "stdout",
     "output_type": "stream",
     "text": [
      "[300]\ttraining's l2: 0.000519514\ttraining's l1: 0.0151971\tvalid_1's l2: 0.000482638\tvalid_1's l1: 0.0152456\n",
      "Valid Sharpe: 0.5483223369336652, RMSE: 0.02198217355597216, MAE: 0.01525369495192248\n",
      "\n",
      "========================== Fold 10 ==========================\n",
      "Train Date range: 2017-01-04 00:00:00 to 2021-06-22 00:00:00\n",
      "Valid Date range: 2021-06-29 00:00:00 to 2021-12-03 00:00:00\n",
      "\n",
      "Train Shape: (2110483, 22) (2110483,), Valid Shape: (212048, 22) (212048,)\n"
     ]
    },
    {
     "name": "stderr",
     "output_type": "stream",
     "text": [
      "/opt/conda/lib/python3.7/site-packages/lightgbm/sklearn.py:736: UserWarning:\n",
      "\n",
      "'verbose' argument is deprecated and will be removed in a future release of LightGBM. Pass 'log_evaluation()' callback via 'callbacks' argument instead.\n",
      "\n"
     ]
    },
    {
     "name": "stdout",
     "output_type": "stream",
     "text": [
      "[300]\ttraining's l2: 0.000515911\ttraining's l1: 0.0152079\tvalid_1's l2: 0.000489285\tvalid_1's l1: 0.0150871\n",
      "Valid Sharpe: 0.10598314447163978, RMSE: 0.022143517665723617, MAE: 0.01510617329127566\n"
     ]
    }
   ],
   "source": [
    "feat_importance=pd.DataFrame()\n",
    "sharpe_ratio=[]\n",
    "    \n",
    "for fold, (train_idx, val_idx) in enumerate(ts_fold.split(X, y)):\n",
    "    \n",
    "    print(\"\\n========================== Fold {} ==========================\".format(fold+1))\n",
    "    X_train, y_train = X.iloc[train_idx,:], y[train_idx]\n",
    "    X_valid, y_val = X.iloc[val_idx,:], y[val_idx]\n",
    "    \n",
    "    print(\"Train Date range: {} to {}\".format(X_train.Date.min(),X_train.Date.max()))\n",
    "    print(\"Valid Date range: {} to {}\".format(X_valid.Date.min(),X_valid.Date.max()))\n",
    "    \n",
    "    X_train.drop(['Date','SecuritiesCode'], axis=1, inplace=True)\n",
    "    X_val=X_valid[X_valid.columns[~X_valid.columns.isin(['Date','SecuritiesCode'])]]\n",
    "    val_dates=X_valid.Date.unique()[1:-1]\n",
    "    print(\"\\nTrain Shape: {} {}, Valid Shape: {} {}\".format(X_train.shape, y_train.shape, X_val.shape, y_val.shape))\n",
    "    \n",
    "    params = {'n_estimators': 500,\n",
    "              'num_leaves' : 100,\n",
    "              'learning_rate': 0.1,\n",
    "              'colsample_bytree': 0.9,\n",
    "              'subsample': 0.8,\n",
    "              'reg_alpha': 0.4,\n",
    "              'metric': 'mae',\n",
    "              'random_state': 21}\n",
    "    \n",
    "    gbm = LGBMRegressor(**params).fit(X_train, y_train, \n",
    "                                      eval_set=[(X_train, y_train), (X_val, y_val)],\n",
    "                                      verbose=300, \n",
    "                                      eval_metric=['mae','mse'])\n",
    "    y_pred = gbm.predict(X_val)\n",
    "    rmse = np.sqrt(mean_squared_error(y_val, y_pred))\n",
    "    mae = mean_absolute_error(y_val, y_pred)\n",
    "    feat_importance[\"Importance_Fold\"+str(fold)]=gbm.feature_importances_\n",
    "    feat_importance.set_index(X_train.columns, inplace=True)\n",
    "    \n",
    "    rank=[]\n",
    "    X_val_df=X_valid[X_valid.Date.isin(val_dates)]\n",
    "    for i in X_val_df.Date.unique():\n",
    "        temp_df = X_val_df[X_val_df.Date == i].drop(['Date','SecuritiesCode'],axis=1)\n",
    "        temp_df[\"pred\"] = gbm.predict(temp_df)\n",
    "        temp_df[\"Rank\"] = (temp_df[\"pred\"].rank(method=\"first\", ascending=False)-1).astype(int)\n",
    "        rank.append(temp_df[\"Rank\"].values)\n",
    "\n",
    "    stock_rank=pd.Series([x for y in rank for x in y], name=\"Rank\")\n",
    "    df=pd.concat([X_val_df.reset_index(drop=True),stock_rank,\n",
    "                  prices[prices.Date.isin(val_dates)]['Target'].reset_index(drop=True)], axis=1)\n",
    "    sharpe=calc_spread_return_sharpe(df)\n",
    "    sharpe_ratio.append(sharpe)\n",
    "    print(\"Valid Sharpe: {}, RMSE: {}, MAE: {}\".format(sharpe,rmse,mae))\n",
    "    \n",
    "    del X_train, y_train,  X_val, y_val\n",
    "    gc.collect()"
   ]
  },
  {
   "cell_type": "code",
   "execution_count": 23,
   "id": "35074e1f",
   "metadata": {
    "execution": {
     "iopub.execute_input": "2022-07-01T09:24:52.504372Z",
     "iopub.status.busy": "2022-07-01T09:24:52.503948Z",
     "iopub.status.idle": "2022-07-01T09:24:52.511106Z",
     "shell.execute_reply": "2022-07-01T09:24:52.509735Z"
    },
    "papermill": {
     "duration": 0.050626,
     "end_time": "2022-07-01T09:24:52.513517",
     "exception": false,
     "start_time": "2022-07-01T09:24:52.462891",
     "status": "completed"
    },
    "tags": []
   },
   "outputs": [
    {
     "name": "stdout",
     "output_type": "stream",
     "text": [
      "\n",
      "Average cross-validation Sharpe Ratio: 0.4410, standard deviation = 0.21.\n"
     ]
    }
   ],
   "source": [
    "print(\"\\nAverage cross-validation Sharpe Ratio: {:.4f}, standard deviation = {:.2f}.\".format(np.mean(sharpe_ratio),np.std(sharpe_ratio)))"
   ]
  },
  {
   "cell_type": "code",
   "execution_count": 24,
   "id": "28790f0e",
   "metadata": {
    "execution": {
     "iopub.execute_input": "2022-07-01T09:24:52.590222Z",
     "iopub.status.busy": "2022-07-01T09:24:52.589843Z",
     "iopub.status.idle": "2022-07-01T09:24:52.853686Z",
     "shell.execute_reply": "2022-07-01T09:24:52.852493Z"
    },
    "papermill": {
     "duration": 0.304909,
     "end_time": "2022-07-01T09:24:52.856022",
     "exception": false,
     "start_time": "2022-07-01T09:24:52.551113",
     "status": "completed"
    },
    "tags": []
   },
   "outputs": [
    {
     "data": {
      "text/html": [
       "        <script type=\"text/javascript\">\n",
       "        window.PlotlyConfig = {MathJaxConfig: 'local'};\n",
       "        if (window.MathJax && window.MathJax.Hub && window.MathJax.Hub.Config) {window.MathJax.Hub.Config({SVG: {font: \"STIX-Web\"}});}\n",
       "        if (typeof require !== 'undefined') {\n",
       "        require.undef(\"plotly\");\n",
       "        requirejs.config({\n",
       "            paths: {\n",
       "                'plotly': ['https://cdn.plot.ly/plotly-2.12.1.min']\n",
       "            }\n",
       "        });\n",
       "        require(['plotly'], function(Plotly) {\n",
       "            window._Plotly = Plotly;\n",
       "        });\n",
       "        }\n",
       "        </script>\n",
       "        "
      ]
     },
     "metadata": {},
     "output_type": "display_data"
    },
    {
     "data": {
      "text/html": [
       "<div>                            <div id=\"8e1f2620-966c-48c3-85fc-817803d9b8e7\" class=\"plotly-graph-div\" style=\"height:700px; width:800px;\"></div>            <script type=\"text/javascript\">                require([\"plotly\"], function(Plotly) {                    window.PLOTLYENV=window.PLOTLYENV || {};                                    if (document.getElementById(\"8e1f2620-966c-48c3-85fc-817803d9b8e7\")) {                    Plotly.newPlot(                        \"8e1f2620-966c-48c3-85fc-817803d9b8e7\",                        [{\"hovertemplate\":\"%{y} Importance = %{x:.0f}<extra></extra>\",\"marker\":{\"color\":[\"#220690\",\"#330597\",\"#41049d\",\"#5002a2\",\"#5c01a6\",\"#6a00a8\",\"#7701a8\",\"#8405a7\",\"#8f0da4\",\"#9c179e\",\"#a62098\",\"#b12a90\",\"#ba3388\",\"#c33d80\",\"#cb4679\",\"#d35171\",\"#da5b69\",\"#e16462\",\"#e76f5a\",\"#ed7953\",\"#f2844b\",\"#f68f44\",\"#fa9b3d\",\"#fca636\",\"#fdb42f\",\"#fec029\",\"#fcce25\"],\"size\":8},\"mode\":\"markers\",\"x\":[943.9,992.2,1059.0,1234.4,1682.6,1690.1,1705.8,1797.2,1825.2,1842.7,1872.1,2508.4,2531.1,2697.2,2781.9,2787.7,2789.1,3033.4,3122.2,3261.1,3501.1,3841.6],\"y\":[\"EMA20\",\"EMA10\",\"EMA30\",\"EMA5\",\"AdjustedClose\",\"Low\",\"High\",\"EMA50\",\"Open\",\"bollinger_down\",\"bollinger_up\",\"volatility_30\",\"volatility_20\",\"return_20\",\"return_30\",\"volatility_50\",\"return_50\",\"volatility_10\",\"rsi\",\"return_10\",\"return_5\",\"volatility_5\"],\"type\":\"scatter\"}],                        {\"template\":{\"data\":{\"histogram2dcontour\":[{\"type\":\"histogram2dcontour\",\"colorbar\":{\"outlinewidth\":0,\"ticks\":\"\"},\"colorscale\":[[0.0,\"#0d0887\"],[0.1111111111111111,\"#46039f\"],[0.2222222222222222,\"#7201a8\"],[0.3333333333333333,\"#9c179e\"],[0.4444444444444444,\"#bd3786\"],[0.5555555555555556,\"#d8576b\"],[0.6666666666666666,\"#ed7953\"],[0.7777777777777778,\"#fb9f3a\"],[0.8888888888888888,\"#fdca26\"],[1.0,\"#f0f921\"]]}],\"choropleth\":[{\"type\":\"choropleth\",\"colorbar\":{\"outlinewidth\":0,\"ticks\":\"\"}}],\"histogram2d\":[{\"type\":\"histogram2d\",\"colorbar\":{\"outlinewidth\":0,\"ticks\":\"\"},\"colorscale\":[[0.0,\"#0d0887\"],[0.1111111111111111,\"#46039f\"],[0.2222222222222222,\"#7201a8\"],[0.3333333333333333,\"#9c179e\"],[0.4444444444444444,\"#bd3786\"],[0.5555555555555556,\"#d8576b\"],[0.6666666666666666,\"#ed7953\"],[0.7777777777777778,\"#fb9f3a\"],[0.8888888888888888,\"#fdca26\"],[1.0,\"#f0f921\"]]}],\"heatmap\":[{\"type\":\"heatmap\",\"colorbar\":{\"outlinewidth\":0,\"ticks\":\"\"},\"colorscale\":[[0.0,\"#0d0887\"],[0.1111111111111111,\"#46039f\"],[0.2222222222222222,\"#7201a8\"],[0.3333333333333333,\"#9c179e\"],[0.4444444444444444,\"#bd3786\"],[0.5555555555555556,\"#d8576b\"],[0.6666666666666666,\"#ed7953\"],[0.7777777777777778,\"#fb9f3a\"],[0.8888888888888888,\"#fdca26\"],[1.0,\"#f0f921\"]]}],\"heatmapgl\":[{\"type\":\"heatmapgl\",\"colorbar\":{\"outlinewidth\":0,\"ticks\":\"\"},\"colorscale\":[[0.0,\"#0d0887\"],[0.1111111111111111,\"#46039f\"],[0.2222222222222222,\"#7201a8\"],[0.3333333333333333,\"#9c179e\"],[0.4444444444444444,\"#bd3786\"],[0.5555555555555556,\"#d8576b\"],[0.6666666666666666,\"#ed7953\"],[0.7777777777777778,\"#fb9f3a\"],[0.8888888888888888,\"#fdca26\"],[1.0,\"#f0f921\"]]}],\"contourcarpet\":[{\"type\":\"contourcarpet\",\"colorbar\":{\"outlinewidth\":0,\"ticks\":\"\"}}],\"contour\":[{\"type\":\"contour\",\"colorbar\":{\"outlinewidth\":0,\"ticks\":\"\"},\"colorscale\":[[0.0,\"#0d0887\"],[0.1111111111111111,\"#46039f\"],[0.2222222222222222,\"#7201a8\"],[0.3333333333333333,\"#9c179e\"],[0.4444444444444444,\"#bd3786\"],[0.5555555555555556,\"#d8576b\"],[0.6666666666666666,\"#ed7953\"],[0.7777777777777778,\"#fb9f3a\"],[0.8888888888888888,\"#fdca26\"],[1.0,\"#f0f921\"]]}],\"surface\":[{\"type\":\"surface\",\"colorbar\":{\"outlinewidth\":0,\"ticks\":\"\"},\"colorscale\":[[0.0,\"#0d0887\"],[0.1111111111111111,\"#46039f\"],[0.2222222222222222,\"#7201a8\"],[0.3333333333333333,\"#9c179e\"],[0.4444444444444444,\"#bd3786\"],[0.5555555555555556,\"#d8576b\"],[0.6666666666666666,\"#ed7953\"],[0.7777777777777778,\"#fb9f3a\"],[0.8888888888888888,\"#fdca26\"],[1.0,\"#f0f921\"]]}],\"mesh3d\":[{\"type\":\"mesh3d\",\"colorbar\":{\"outlinewidth\":0,\"ticks\":\"\"}}],\"scatter\":[{\"fillpattern\":{\"fillmode\":\"overlay\",\"size\":10,\"solidity\":0.2},\"type\":\"scatter\"}],\"parcoords\":[{\"type\":\"parcoords\",\"line\":{\"colorbar\":{\"outlinewidth\":0,\"ticks\":\"\"}}}],\"scatterpolargl\":[{\"type\":\"scatterpolargl\",\"marker\":{\"colorbar\":{\"outlinewidth\":0,\"ticks\":\"\"}}}],\"bar\":[{\"error_x\":{\"color\":\"#2a3f5f\"},\"error_y\":{\"color\":\"#2a3f5f\"},\"marker\":{\"line\":{\"color\":\"#E5ECF6\",\"width\":0.5},\"pattern\":{\"fillmode\":\"overlay\",\"size\":10,\"solidity\":0.2}},\"type\":\"bar\"}],\"scattergeo\":[{\"type\":\"scattergeo\",\"marker\":{\"colorbar\":{\"outlinewidth\":0,\"ticks\":\"\"}}}],\"scatterpolar\":[{\"type\":\"scatterpolar\",\"marker\":{\"colorbar\":{\"outlinewidth\":0,\"ticks\":\"\"}}}],\"histogram\":[{\"marker\":{\"pattern\":{\"fillmode\":\"overlay\",\"size\":10,\"solidity\":0.2}},\"type\":\"histogram\"}],\"scattergl\":[{\"type\":\"scattergl\",\"marker\":{\"colorbar\":{\"outlinewidth\":0,\"ticks\":\"\"}}}],\"scatter3d\":[{\"type\":\"scatter3d\",\"line\":{\"colorbar\":{\"outlinewidth\":0,\"ticks\":\"\"}},\"marker\":{\"colorbar\":{\"outlinewidth\":0,\"ticks\":\"\"}}}],\"scattermapbox\":[{\"type\":\"scattermapbox\",\"marker\":{\"colorbar\":{\"outlinewidth\":0,\"ticks\":\"\"}}}],\"scatterternary\":[{\"type\":\"scatterternary\",\"marker\":{\"colorbar\":{\"outlinewidth\":0,\"ticks\":\"\"}}}],\"scattercarpet\":[{\"type\":\"scattercarpet\",\"marker\":{\"colorbar\":{\"outlinewidth\":0,\"ticks\":\"\"}}}],\"carpet\":[{\"aaxis\":{\"endlinecolor\":\"#2a3f5f\",\"gridcolor\":\"white\",\"linecolor\":\"white\",\"minorgridcolor\":\"white\",\"startlinecolor\":\"#2a3f5f\"},\"baxis\":{\"endlinecolor\":\"#2a3f5f\",\"gridcolor\":\"white\",\"linecolor\":\"white\",\"minorgridcolor\":\"white\",\"startlinecolor\":\"#2a3f5f\"},\"type\":\"carpet\"}],\"table\":[{\"cells\":{\"fill\":{\"color\":\"#EBF0F8\"},\"line\":{\"color\":\"white\"}},\"header\":{\"fill\":{\"color\":\"#C8D4E3\"},\"line\":{\"color\":\"white\"}},\"type\":\"table\"}],\"barpolar\":[{\"marker\":{\"line\":{\"color\":\"#E5ECF6\",\"width\":0.5},\"pattern\":{\"fillmode\":\"overlay\",\"size\":10,\"solidity\":0.2}},\"type\":\"barpolar\"}],\"pie\":[{\"automargin\":true,\"type\":\"pie\"}]},\"layout\":{\"autotypenumbers\":\"strict\",\"colorway\":[\"#636efa\",\"#EF553B\",\"#00cc96\",\"#ab63fa\",\"#FFA15A\",\"#19d3f3\",\"#FF6692\",\"#B6E880\",\"#FF97FF\",\"#FECB52\"],\"font\":{\"color\":\"#2a3f5f\"},\"hovermode\":\"closest\",\"hoverlabel\":{\"align\":\"left\"},\"paper_bgcolor\":\"white\",\"plot_bgcolor\":\"#E5ECF6\",\"polar\":{\"bgcolor\":\"#E5ECF6\",\"angularaxis\":{\"gridcolor\":\"white\",\"linecolor\":\"white\",\"ticks\":\"\"},\"radialaxis\":{\"gridcolor\":\"white\",\"linecolor\":\"white\",\"ticks\":\"\"}},\"ternary\":{\"bgcolor\":\"#E5ECF6\",\"aaxis\":{\"gridcolor\":\"white\",\"linecolor\":\"white\",\"ticks\":\"\"},\"baxis\":{\"gridcolor\":\"white\",\"linecolor\":\"white\",\"ticks\":\"\"},\"caxis\":{\"gridcolor\":\"white\",\"linecolor\":\"white\",\"ticks\":\"\"}},\"coloraxis\":{\"colorbar\":{\"outlinewidth\":0,\"ticks\":\"\"}},\"colorscale\":{\"sequential\":[[0.0,\"#0d0887\"],[0.1111111111111111,\"#46039f\"],[0.2222222222222222,\"#7201a8\"],[0.3333333333333333,\"#9c179e\"],[0.4444444444444444,\"#bd3786\"],[0.5555555555555556,\"#d8576b\"],[0.6666666666666666,\"#ed7953\"],[0.7777777777777778,\"#fb9f3a\"],[0.8888888888888888,\"#fdca26\"],[1.0,\"#f0f921\"]],\"sequentialminus\":[[0.0,\"#0d0887\"],[0.1111111111111111,\"#46039f\"],[0.2222222222222222,\"#7201a8\"],[0.3333333333333333,\"#9c179e\"],[0.4444444444444444,\"#bd3786\"],[0.5555555555555556,\"#d8576b\"],[0.6666666666666666,\"#ed7953\"],[0.7777777777777778,\"#fb9f3a\"],[0.8888888888888888,\"#fdca26\"],[1.0,\"#f0f921\"]],\"diverging\":[[0,\"#8e0152\"],[0.1,\"#c51b7d\"],[0.2,\"#de77ae\"],[0.3,\"#f1b6da\"],[0.4,\"#fde0ef\"],[0.5,\"#f7f7f7\"],[0.6,\"#e6f5d0\"],[0.7,\"#b8e186\"],[0.8,\"#7fbc41\"],[0.9,\"#4d9221\"],[1,\"#276419\"]]},\"xaxis\":{\"gridcolor\":\"white\",\"linecolor\":\"white\",\"ticks\":\"\",\"title\":{\"standoff\":15},\"zerolinecolor\":\"white\",\"automargin\":true,\"zerolinewidth\":2},\"yaxis\":{\"gridcolor\":\"white\",\"linecolor\":\"white\",\"ticks\":\"\",\"title\":{\"standoff\":15},\"zerolinecolor\":\"white\",\"automargin\":true,\"zerolinewidth\":2},\"scene\":{\"xaxis\":{\"backgroundcolor\":\"#E5ECF6\",\"gridcolor\":\"white\",\"linecolor\":\"white\",\"showbackground\":true,\"ticks\":\"\",\"zerolinecolor\":\"white\",\"gridwidth\":2},\"yaxis\":{\"backgroundcolor\":\"#E5ECF6\",\"gridcolor\":\"white\",\"linecolor\":\"white\",\"showbackground\":true,\"ticks\":\"\",\"zerolinecolor\":\"white\",\"gridwidth\":2},\"zaxis\":{\"backgroundcolor\":\"#E5ECF6\",\"gridcolor\":\"white\",\"linecolor\":\"white\",\"showbackground\":true,\"ticks\":\"\",\"zerolinecolor\":\"white\",\"gridwidth\":2}},\"shapedefaults\":{\"line\":{\"color\":\"#2a3f5f\"}},\"annotationdefaults\":{\"arrowcolor\":\"#2a3f5f\",\"arrowhead\":0,\"arrowwidth\":1},\"geo\":{\"bgcolor\":\"white\",\"landcolor\":\"#E5ECF6\",\"subunitcolor\":\"white\",\"showland\":true,\"showlakes\":true,\"lakecolor\":\"white\"},\"title\":{\"x\":0.05},\"mapbox\":{\"style\":\"light\"}}},\"shapes\":[{\"line\":{\"color\":\"#220690\",\"width\":4},\"opacity\":0.7,\"type\":\"line\",\"x0\":0,\"x1\":943.9,\"y0\":0,\"y1\":0},{\"line\":{\"color\":\"#330597\",\"width\":4},\"opacity\":0.7,\"type\":\"line\",\"x0\":0,\"x1\":992.2,\"y0\":1,\"y1\":1},{\"line\":{\"color\":\"#41049d\",\"width\":4},\"opacity\":0.7,\"type\":\"line\",\"x0\":0,\"x1\":1059.0,\"y0\":2,\"y1\":2},{\"line\":{\"color\":\"#5002a2\",\"width\":4},\"opacity\":0.7,\"type\":\"line\",\"x0\":0,\"x1\":1234.4,\"y0\":3,\"y1\":3},{\"line\":{\"color\":\"#5c01a6\",\"width\":4},\"opacity\":0.7,\"type\":\"line\",\"x0\":0,\"x1\":1682.6,\"y0\":4,\"y1\":4},{\"line\":{\"color\":\"#6a00a8\",\"width\":4},\"opacity\":0.7,\"type\":\"line\",\"x0\":0,\"x1\":1690.1,\"y0\":5,\"y1\":5},{\"line\":{\"color\":\"#7701a8\",\"width\":4},\"opacity\":0.7,\"type\":\"line\",\"x0\":0,\"x1\":1705.8,\"y0\":6,\"y1\":6},{\"line\":{\"color\":\"#8405a7\",\"width\":4},\"opacity\":0.7,\"type\":\"line\",\"x0\":0,\"x1\":1797.2,\"y0\":7,\"y1\":7},{\"line\":{\"color\":\"#8f0da4\",\"width\":4},\"opacity\":0.7,\"type\":\"line\",\"x0\":0,\"x1\":1825.2,\"y0\":8,\"y1\":8},{\"line\":{\"color\":\"#9c179e\",\"width\":4},\"opacity\":0.7,\"type\":\"line\",\"x0\":0,\"x1\":1842.7,\"y0\":9,\"y1\":9},{\"line\":{\"color\":\"#a62098\",\"width\":4},\"opacity\":0.7,\"type\":\"line\",\"x0\":0,\"x1\":1872.1,\"y0\":10,\"y1\":10},{\"line\":{\"color\":\"#b12a90\",\"width\":4},\"opacity\":0.7,\"type\":\"line\",\"x0\":0,\"x1\":2508.4,\"y0\":11,\"y1\":11},{\"line\":{\"color\":\"#ba3388\",\"width\":4},\"opacity\":0.7,\"type\":\"line\",\"x0\":0,\"x1\":2531.1,\"y0\":12,\"y1\":12},{\"line\":{\"color\":\"#c33d80\",\"width\":4},\"opacity\":0.7,\"type\":\"line\",\"x0\":0,\"x1\":2697.2,\"y0\":13,\"y1\":13},{\"line\":{\"color\":\"#cb4679\",\"width\":4},\"opacity\":0.7,\"type\":\"line\",\"x0\":0,\"x1\":2781.9,\"y0\":14,\"y1\":14},{\"line\":{\"color\":\"#d35171\",\"width\":4},\"opacity\":0.7,\"type\":\"line\",\"x0\":0,\"x1\":2787.7,\"y0\":15,\"y1\":15},{\"line\":{\"color\":\"#da5b69\",\"width\":4},\"opacity\":0.7,\"type\":\"line\",\"x0\":0,\"x1\":2789.1,\"y0\":16,\"y1\":16},{\"line\":{\"color\":\"#e16462\",\"width\":4},\"opacity\":0.7,\"type\":\"line\",\"x0\":0,\"x1\":3033.4,\"y0\":17,\"y1\":17},{\"line\":{\"color\":\"#e76f5a\",\"width\":4},\"opacity\":0.7,\"type\":\"line\",\"x0\":0,\"x1\":3122.2,\"y0\":18,\"y1\":18},{\"line\":{\"color\":\"#ed7953\",\"width\":4},\"opacity\":0.7,\"type\":\"line\",\"x0\":0,\"x1\":3261.1,\"y0\":19,\"y1\":19},{\"line\":{\"color\":\"#f2844b\",\"width\":4},\"opacity\":0.7,\"type\":\"line\",\"x0\":0,\"x1\":3501.1,\"y0\":20,\"y1\":20},{\"line\":{\"color\":\"#f68f44\",\"width\":4},\"opacity\":0.7,\"type\":\"line\",\"x0\":0,\"x1\":3841.6,\"y0\":21,\"y1\":21}],\"xaxis\":{\"title\":{\"text\":\"Average Importance\"},\"zeroline\":false},\"yaxis\":{\"showgrid\":false},\"margin\":{\"l\":120,\"t\":80},\"title\":{\"text\":\"Overall Feature Importance\"},\"height\":700,\"width\":800},                        {\"responsive\": true}                    ).then(function(){\n",
       "                            \n",
       "var gd = document.getElementById('8e1f2620-966c-48c3-85fc-817803d9b8e7');\n",
       "var x = new MutationObserver(function (mutations, observer) {{\n",
       "        var display = window.getComputedStyle(gd).display;\n",
       "        if (!display || display === 'none') {{\n",
       "            console.log([gd, 'removed!']);\n",
       "            Plotly.purge(gd);\n",
       "            observer.disconnect();\n",
       "        }}\n",
       "}});\n",
       "\n",
       "// Listen for the removal of the full notebook cells\n",
       "var notebookContainer = gd.closest('#notebook-container');\n",
       "if (notebookContainer) {{\n",
       "    x.observe(notebookContainer, {childList: true});\n",
       "}}\n",
       "\n",
       "// Listen for the clearing of the current output cell\n",
       "var outputEl = gd.closest('.output');\n",
       "if (outputEl) {{\n",
       "    x.observe(outputEl, {childList: true});\n",
       "}}\n",
       "\n",
       "                        })                };                });            </script>        </div>"
      ]
     },
     "metadata": {},
     "output_type": "display_data"
    }
   ],
   "source": [
    "feat_importance['avg'] = feat_importance.mean(axis=1)\n",
    "feat_importance = feat_importance.sort_values(by='avg',ascending=True)\n",
    "pal=sns.color_palette(\"plasma_r\", 29).as_hex()[2:]\n",
    "\n",
    "fig=go.Figure()\n",
    "for i in range(len(feat_importance.index)):\n",
    "    fig.add_shape(dict(type=\"line\", y0=i, y1=i, x0=0, x1=feat_importance['avg'][i], \n",
    "                       line_color=pal[::-1][i],opacity=0.7,line_width=4))\n",
    "fig.add_trace(go.Scatter(x=feat_importance['avg'], y=feat_importance.index, mode='markers', \n",
    "                         marker_color=pal[::-1], marker_size=8,\n",
    "                         hovertemplate='%{y} Importance = %{x:.0f}<extra></extra>'))\n",
    "fig.update_layout(title='Overall Feature Importance', \n",
    "                  xaxis=dict(title='Average Importance',zeroline=False),\n",
    "                  yaxis_showgrid=False, margin=dict(l=120,t=80),\n",
    "                  height=700, width=800)\n",
    "fig.show()"
   ]
  },
  {
   "cell_type": "code",
   "execution_count": 25,
   "id": "ae59d977",
   "metadata": {
    "execution": {
     "iopub.execute_input": "2022-07-01T09:24:52.936064Z",
     "iopub.status.busy": "2022-07-01T09:24:52.935292Z",
     "iopub.status.idle": "2022-07-01T09:25:13.756278Z",
     "shell.execute_reply": "2022-07-01T09:25:13.754969Z"
    },
    "papermill": {
     "duration": 20.864587,
     "end_time": "2022-07-01T09:25:13.758860",
     "exception": false,
     "start_time": "2022-07-01T09:24:52.894273",
     "status": "completed"
    },
    "tags": []
   },
   "outputs": [],
   "source": [
    "cols_fin=feat_importance.avg.nlargest(5).index.tolist()\n",
    "#cols_fin.extend(('Open','High','Low'))\n",
    "X_train=feature[cols_fin]\n",
    "y_train=feature['Target']\n",
    "gbm = LGBMRegressor(**params).fit(X_train, y_train)"
   ]
  },
  {
   "cell_type": "code",
   "execution_count": 26,
   "id": "2b27b26c",
   "metadata": {
    "execution": {
     "iopub.execute_input": "2022-07-01T09:25:13.837347Z",
     "iopub.status.busy": "2022-07-01T09:25:13.836940Z",
     "iopub.status.idle": "2022-07-01T09:25:13.862810Z",
     "shell.execute_reply": "2022-07-01T09:25:13.861735Z"
    },
    "papermill": {
     "duration": 0.067299,
     "end_time": "2022-07-01T09:25:13.865124",
     "exception": false,
     "start_time": "2022-07-01T09:25:13.797825",
     "status": "completed"
    },
    "tags": []
   },
   "outputs": [],
   "source": [
    "# load Time Series API\n",
    "import jpx_tokyo_market_prediction\n",
    "# make Time Series API environment (this function can be called only once in a session)\n",
    "env = jpx_tokyo_market_prediction.make_env()\n",
    "# get iterator to fetch data day by day\n",
    "iter_test = env.iter_test()"
   ]
  },
  {
   "cell_type": "code",
   "execution_count": 27,
   "id": "9aab5bd8",
   "metadata": {
    "execution": {
     "iopub.execute_input": "2022-07-01T09:25:13.942999Z",
     "iopub.status.busy": "2022-07-01T09:25:13.942375Z",
     "iopub.status.idle": "2022-07-01T09:25:13.957579Z",
     "shell.execute_reply": "2022-07-01T09:25:13.956748Z"
    },
    "papermill": {
     "duration": 0.056738,
     "end_time": "2022-07-01T09:25:13.959786",
     "exception": false,
     "start_time": "2022-07-01T09:25:13.903048",
     "status": "completed"
    },
    "tags": []
   },
   "outputs": [],
   "source": [
    "#Features Return % & Market Volatality\n",
    "def get_features_for_predict_new(price, code):\n",
    "    \"\"\"\n",
    "    Args:\n",
    "        price (pd.DataFrame)  : pd.DataFrame include stock_price\n",
    "        code (int)  : A local code for a listed company\n",
    "    Returns:\n",
    "        feature DataFrame (pd.DataFrame)\n",
    "    \"\"\"\n",
    "    close_col = \"AdjustedClose\"\n",
    "    feats = price.loc[price[\"SecuritiesCode\"] == code, ['Date', 'SecuritiesCode', 'Open', 'High', 'Low', close_col]].copy()\n",
    "\n",
    "    # calculate return 5 days using AdjustedClose\n",
    "    feats[\"return_5\"] = feats[close_col].pct_change(5)\n",
    "    # calculate last 10 days return using AdjustedClose\n",
    "    feats[\"return_10\"] = feats[close_col].pct_change(10)\n",
    "    # calculate last 20 days return using AdjustedClose\n",
    "    feats[\"return_20\"] = feats[close_col].pct_change(20)\n",
    "    feats[\"return_30\"] = feats[close_col].pct_change(30)\n",
    "    # calculate last 50 days return using AdjustedClose\n",
    "    feats[\"return_50\"] = feats[close_col].pct_change(50)\n",
    "\n",
    "\n",
    "    # calculate historical volatility using AdjustedClose\n",
    "    feats[\"volatility_5\"] = (\n",
    "        np.log(feats[close_col]).diff().rolling(5).std()\n",
    "    )\n",
    "    feats[\"volatility_10\"] = (\n",
    "        np.log(feats[close_col]).diff().rolling(10).std()\n",
    "    )\n",
    "    feats[\"volatility_20\"] = (\n",
    "        np.log(feats[close_col]).diff().rolling(20).std()\n",
    "    )\n",
    "    feats[\"volatility_30\"] = (\n",
    "        np.log(feats[close_col]).diff().rolling(30).std()\n",
    "    )\n",
    "    feats[\"volatility_50\"] = (\n",
    "        np.log(feats[close_col]).diff().rolling(50).std()\n",
    "    )\n",
    "    # calculate last bollinger band using AdjustedClose\n",
    "    feats[\"bollinger_up\"] = (\n",
    "        (((feats[close_col]).rolling(20).mean()) + ((feats[close_col]).rolling(20).std()))*2\n",
    "    )\n",
    "    \n",
    "    # calculate last bollinger band using AdjustedClose\n",
    "    feats[\"bollinger_down\"] = (\n",
    "        (((feats[close_col]).rolling(20).mean()) - ((feats[close_col]).rolling(20).std()))*2\n",
    "    )\n",
    "    \n",
    "    # calculate RSI\n",
    "    feats[\"rsi\"] = computeRSI(feats[close_col], 14)\n",
    "    \n",
    "    # Exponential Moving Averages (EMAS) - different periods\n",
    "    feats['EMA5'] = feats[close_col].ewm(span=5, adjust=False).mean()\n",
    "    feats['EMA10'] = feats[close_col].ewm(span=10, adjust=False).mean()\n",
    "    feats['EMA20'] = feats[close_col].ewm(span=20, adjust=False).mean()\n",
    "    feats['EMA30'] = feats[close_col].ewm(span=30, adjust=False).mean()\n",
    "    feats['EMA50'] = feats[close_col].ewm(span=50, adjust=False).mean()\n",
    "    \n",
    "    \n",
    "    # filling data for nan and inf\n",
    "    feats = feats.fillna(0)\n",
    "    feats = feats.replace([np.inf, -np.inf], 0)\n",
    "    # drop AdjustedClose column\n",
    "    # feats = feats.drop([close_col], axis=1)\n",
    "    feat_col = [\n",
    "    'Open',\n",
    "    'High',\n",
    "    'Low',\n",
    "    'AdjustedClose',\n",
    "#     'return_5',\n",
    "#     'return_10',\n",
    "#     'return_20',\n",
    "#     'return_30',\n",
    "#     'return_50',\n",
    "#     'volatility_5',\n",
    "#     'volatility_10',\n",
    "#     'volatility_20',\n",
    "#     'volatility_30',\n",
    "#     'volatility_50',\n",
    "    'bollinger_up',\n",
    "    'bollinger_down',\n",
    "    'rsi',\n",
    "    'EMA5',\n",
    "    'EMA10',\n",
    "    'EMA20',\n",
    "    'EMA30',\n",
    "    'EMA50'\n",
    "]\n",
    "    feats[feat_col] = stdsc.fit_transform(feats[feat_col])\n",
    "       \n",
    "    return feats"
   ]
  },
  {
   "cell_type": "code",
   "execution_count": 28,
   "id": "562cf220",
   "metadata": {
    "execution": {
     "iopub.execute_input": "2022-07-01T09:25:14.037222Z",
     "iopub.status.busy": "2022-07-01T09:25:14.036495Z",
     "iopub.status.idle": "2022-07-01T09:27:11.651760Z",
     "shell.execute_reply": "2022-07-01T09:27:11.650616Z"
    },
    "papermill": {
     "duration": 117.685413,
     "end_time": "2022-07-01T09:27:11.682673",
     "exception": false,
     "start_time": "2022-07-01T09:25:13.997260",
     "status": "completed"
    },
    "tags": []
   },
   "outputs": [
    {
     "name": "stdout",
     "output_type": "stream",
     "text": [
      "This version of the API is not optimized and should not be used to estimate the runtime of your code on the hidden test set.\n"
     ]
    },
    {
     "data": {
      "text/html": [
       "<div>\n",
       "<style scoped>\n",
       "    .dataframe tbody tr th:only-of-type {\n",
       "        vertical-align: middle;\n",
       "    }\n",
       "\n",
       "    .dataframe tbody tr th {\n",
       "        vertical-align: top;\n",
       "    }\n",
       "\n",
       "    .dataframe thead th {\n",
       "        text-align: right;\n",
       "    }\n",
       "</style>\n",
       "<table border=\"1\" class=\"dataframe\">\n",
       "  <thead>\n",
       "    <tr style=\"text-align: right;\">\n",
       "      <th></th>\n",
       "      <th>Date</th>\n",
       "      <th>SecuritiesCode</th>\n",
       "      <th>Rank</th>\n",
       "    </tr>\n",
       "  </thead>\n",
       "  <tbody>\n",
       "    <tr>\n",
       "      <th>0</th>\n",
       "      <td>2021-12-06</td>\n",
       "      <td>1301</td>\n",
       "      <td>1230</td>\n",
       "    </tr>\n",
       "    <tr>\n",
       "      <th>1</th>\n",
       "      <td>2021-12-06</td>\n",
       "      <td>1332</td>\n",
       "      <td>730</td>\n",
       "    </tr>\n",
       "    <tr>\n",
       "      <th>2</th>\n",
       "      <td>2021-12-06</td>\n",
       "      <td>1333</td>\n",
       "      <td>600</td>\n",
       "    </tr>\n",
       "    <tr>\n",
       "      <th>3</th>\n",
       "      <td>2021-12-06</td>\n",
       "      <td>1375</td>\n",
       "      <td>1910</td>\n",
       "    </tr>\n",
       "    <tr>\n",
       "      <th>4</th>\n",
       "      <td>2021-12-06</td>\n",
       "      <td>1376</td>\n",
       "      <td>1342</td>\n",
       "    </tr>\n",
       "  </tbody>\n",
       "</table>\n",
       "</div>"
      ],
      "text/plain": [
       "         Date  SecuritiesCode  Rank\n",
       "0  2021-12-06            1301  1230\n",
       "1  2021-12-06            1332   730\n",
       "2  2021-12-06            1333   600\n",
       "3  2021-12-06            1375  1910\n",
       "4  2021-12-06            1376  1342"
      ]
     },
     "metadata": {},
     "output_type": "display_data"
    },
    {
     "data": {
      "text/html": [
       "<div>\n",
       "<style scoped>\n",
       "    .dataframe tbody tr th:only-of-type {\n",
       "        vertical-align: middle;\n",
       "    }\n",
       "\n",
       "    .dataframe tbody tr th {\n",
       "        vertical-align: top;\n",
       "    }\n",
       "\n",
       "    .dataframe thead th {\n",
       "        text-align: right;\n",
       "    }\n",
       "</style>\n",
       "<table border=\"1\" class=\"dataframe\">\n",
       "  <thead>\n",
       "    <tr style=\"text-align: right;\">\n",
       "      <th></th>\n",
       "      <th>Date</th>\n",
       "      <th>SecuritiesCode</th>\n",
       "      <th>Rank</th>\n",
       "    </tr>\n",
       "  </thead>\n",
       "  <tbody>\n",
       "    <tr>\n",
       "      <th>0</th>\n",
       "      <td>2021-12-07</td>\n",
       "      <td>1301</td>\n",
       "      <td>1053</td>\n",
       "    </tr>\n",
       "    <tr>\n",
       "      <th>1</th>\n",
       "      <td>2021-12-07</td>\n",
       "      <td>1332</td>\n",
       "      <td>1233</td>\n",
       "    </tr>\n",
       "    <tr>\n",
       "      <th>2</th>\n",
       "      <td>2021-12-07</td>\n",
       "      <td>1333</td>\n",
       "      <td>766</td>\n",
       "    </tr>\n",
       "    <tr>\n",
       "      <th>3</th>\n",
       "      <td>2021-12-07</td>\n",
       "      <td>1375</td>\n",
       "      <td>1080</td>\n",
       "    </tr>\n",
       "    <tr>\n",
       "      <th>4</th>\n",
       "      <td>2021-12-07</td>\n",
       "      <td>1376</td>\n",
       "      <td>954</td>\n",
       "    </tr>\n",
       "  </tbody>\n",
       "</table>\n",
       "</div>"
      ],
      "text/plain": [
       "         Date  SecuritiesCode  Rank\n",
       "0  2021-12-07            1301  1053\n",
       "1  2021-12-07            1332  1233\n",
       "2  2021-12-07            1333   766\n",
       "3  2021-12-07            1375  1080\n",
       "4  2021-12-07            1376   954"
      ]
     },
     "metadata": {},
     "output_type": "display_data"
    }
   ],
   "source": [
    "cols=['Date','SecuritiesCode','Open','High','Low','Close','Volume','AdjustmentFactor']\n",
    "stock_price=stock_price[stock_price.Date>='2021-08-01'][cols]\n",
    "\n",
    "counter = 0\n",
    "for (prices, options, financials, trades, secondary_prices, sample_prediction) in iter_test:\n",
    "\n",
    "    current_date = prices[\"Date\"].iloc[0]\n",
    "    if counter == 0:\n",
    "        df_price_raw = stock_price.loc[stock_price[\"Date\"] < current_date]\n",
    "    df_price_raw = pd.concat([df_price_raw, prices[cols]]).reset_index(drop=True)\n",
    "    df_price = adjust_price(df_price_raw)\n",
    "    # get target SecuritiesCodes\n",
    "    codes = sorted(prices[\"SecuritiesCode\"].unique())\n",
    "\n",
    "    # generate feature\n",
    "    features = pd.concat([get_features_for_predict_new(df_price, code) for code in codes])\n",
    "#     features = create_features(df=df_price)\n",
    "    feat = features[features.Date == current_date][cols_fin]\n",
    "    feat[\"pred\"] = gbm.predict(feat)\n",
    "    feat[\"Rank\"] = (feat[\"pred\"].rank(method=\"first\", ascending=False)-1).astype(int)\n",
    "    sample_prediction[\"Rank\"] = feat[\"Rank\"].values\n",
    "    display(sample_prediction.head())\n",
    "    \n",
    "    assert sample_prediction[\"Rank\"].notna().all()\n",
    "    assert sample_prediction[\"Rank\"].min() == 0\n",
    "    assert sample_prediction[\"Rank\"].max() == len(sample_prediction[\"Rank\"]) - 1\n",
    "    \n",
    "    env.predict(sample_prediction)\n",
    "    counter += 1"
   ]
  },
  {
   "cell_type": "code",
   "execution_count": null,
   "id": "ef838ba9",
   "metadata": {
    "papermill": {
     "duration": 0.039075,
     "end_time": "2022-07-01T09:27:11.759862",
     "exception": false,
     "start_time": "2022-07-01T09:27:11.720787",
     "status": "completed"
    },
    "tags": []
   },
   "outputs": [],
   "source": []
  },
  {
   "cell_type": "code",
   "execution_count": null,
   "id": "c85dede5",
   "metadata": {
    "papermill": {
     "duration": 0.038418,
     "end_time": "2022-07-01T09:27:11.837215",
     "exception": false,
     "start_time": "2022-07-01T09:27:11.798797",
     "status": "completed"
    },
    "tags": []
   },
   "outputs": [],
   "source": []
  },
  {
   "cell_type": "code",
   "execution_count": null,
   "id": "711570f0",
   "metadata": {
    "papermill": {
     "duration": 0.037948,
     "end_time": "2022-07-01T09:27:11.913467",
     "exception": false,
     "start_time": "2022-07-01T09:27:11.875519",
     "status": "completed"
    },
    "tags": []
   },
   "outputs": [],
   "source": []
  }
 ],
 "metadata": {
  "kernelspec": {
   "display_name": "Python 3",
   "language": "python",
   "name": "python3"
  },
  "language_info": {
   "codemirror_mode": {
    "name": "ipython",
    "version": 3
   },
   "file_extension": ".py",
   "mimetype": "text/x-python",
   "name": "python",
   "nbconvert_exporter": "python",
   "pygments_lexer": "ipython3",
   "version": "3.7.12"
  },
  "papermill": {
   "default_parameters": {},
   "duration": 618.242114,
   "end_time": "2022-07-01T09:27:13.078466",
   "environment_variables": {},
   "exception": null,
   "input_path": "__notebook__.ipynb",
   "output_path": "__notebook__.ipynb",
   "parameters": {},
   "start_time": "2022-07-01T09:16:54.836352",
   "version": "2.3.4"
  }
 },
 "nbformat": 4,
 "nbformat_minor": 5
}
